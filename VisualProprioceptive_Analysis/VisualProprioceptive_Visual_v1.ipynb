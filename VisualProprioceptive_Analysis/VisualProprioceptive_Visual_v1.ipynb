{
 "cells": [
  {
   "cell_type": "code",
   "execution_count": 83,
   "metadata": {},
   "outputs": [],
   "source": [
    "import numpy as np\n",
    "import matplotlib.pyplot as plt\n",
    "import pandas as pd\n",
    "import os\n",
    "import random\n",
    "from scipy.optimize import curve_fit\n",
    "from scipy.stats import norm\n",
    "import Perception as perc"
   ]
  },
  {
   "cell_type": "code",
   "execution_count": 84,
   "metadata": {},
   "outputs": [],
   "source": [
    "# path = \"C:/Users/danhq/Desktop/VisualProprioceptive_Analaysis/Visual-Proprioceptive/VisualProprioceptive_Data/\"\n",
    "# path = \"C:/Users/danhq/Desktop/VisualProprioceptive_Analaysis/Visual-Proprioceptive/VisualProprioceptive_Data/\"\n",
    "path = \"D:/OneDrive/Documents/Projects/VisualProprioceptiveGithub/Visual-Proprioceptive/VisualProprioceptive_Data/\""
   ]
  },
  {
   "cell_type": "code",
   "execution_count": 85,
   "metadata": {},
   "outputs": [],
   "source": [
    "# Analysis of the answers given after movement to the target was made (i.e. visual-proprioceptive condition)\n",
    "files = os.listdir(path)\n",
    "\n",
    "dataFrame = None \n",
    "correct = 0 #np.ones(len(files))\n",
    "responseVal = 0\n",
    "\n",
    "for i in range(len(files)):\n",
    "    \n",
    "    filez = \"Visual\" in files[i] \n",
    "        \n",
    "    if filez:\n",
    "        \n",
    "        data = pd.read_csv(path + files[i],sep=':', header=[0,1,2]) # ignore first 3 header line \n",
    "#         data = pd.read_fwf(path + files[i],sep=':', header=[0,1,2])\n",
    "\n",
    "#----------------------------------------------------------------------------\n",
    "        fName = files[i]\n",
    "        fNameS = fName.split('_')\n",
    "#         print(fNameS)\n",
    "#         print(float(fNameS[6]))\n",
    "        \n",
    "        try:\n",
    "            propVal = float(fNameS[6])\n",
    "        except Exception as e:\n",
    "#             print(e)\n",
    "            replText = fNameS[6].replace(\",\" , \".\")\n",
    "#             print(replText)\n",
    "            propVal = float(replText)\n",
    "    \n",
    "        targPos = data.iloc[0][\"Name\" == \"Target_Position\"]\n",
    "        stiPos = data.iloc[1][\"Name\" == \"Stimulus_Position\"]\n",
    "        reHPos = data.iloc[2][\"Name\" == \"Head_Position\"]\n",
    "        stzPos = data.iloc[3][\"Name\" == \"Head_Rotation\"]\n",
    "        resPos = data.iloc[4][\"Name\" == \"Response\"]\n",
    "        \n",
    "        if \"Y\" in resPos:\n",
    "            responseVal = 1\n",
    "        else:\n",
    "            responseVal = 0\n",
    "        \n",
    "        tp = targPos.split(',')\n",
    "        sp = stiPos.split(',')\n",
    "        rep = reHPos.split(',')\n",
    "        szP = stzPos.split(',')\n",
    "\n",
    "        tpf =(float(tp[2]))\n",
    "        spf = (float(sp[2]))\n",
    "        rpf = (float(rep[2]))\n",
    "        szf = (float(szP[2]))\n",
    "\n",
    "        diffPos = np.absolute(tpf-spf)\n",
    "        realVsVirtHand = np.absolute(rpf-spf)\n",
    "\n",
    "#         print(round(result,4))\n",
    "#         print(resPos)\n",
    "    \n",
    "    #-------------------------------------------------\n",
    "    # if the proprioceptive value is positive and the answer is yes, then that is incorrect \n",
    "    # if the proprioceptive value is negative and the answer is yes, then that is correct \n",
    "\n",
    "        if propVal > 0.0 and '1st' in resPos:\n",
    "            correct = 0\n",
    "        if propVal < 0.0 and '1st' in resPos:\n",
    "            correct = 1\n",
    "        if propVal > 0.0 and '2nd'in resPos:\n",
    "            correct = 1\n",
    "        if propVal < 0.0 and '2nd' in resPos:\n",
    "            correct = 0\n",
    "        if propVal == 0.0:\n",
    "            correct = 2\n",
    "\n",
    "    #-------------------------------------------------\n",
    "    \n",
    "        rawValues = list((tpf,spf,propVal,resPos,correct))\n",
    "        tmpValues = pd.DataFrame([rawValues],columns=['ReferenceHandPos1st','StimulusHandPos1st','ProprioceptiveVal','Response','Correct'])\n",
    "        \n",
    "        tmpValues.insert(0, \"Trial\", fNameS[7][0] , True)\n",
    "        tmpValues.insert(0, \"Participant_ID\", fNameS[2] , True)\n",
    "        \n",
    "        if dataFrame is None:\n",
    "            dataFrame = tmpValues\n",
    "        else:\n",
    "            dataFrame = pd.concat((dataFrame, tmpValues)) \n",
    "    \n",
    "#----------------------------------------------------------------------------       "
   ]
  },
  {
   "cell_type": "code",
   "execution_count": 152,
   "metadata": {},
   "outputs": [],
   "source": [
    "# dataFrame"
   ]
  },
  {
   "cell_type": "code",
   "execution_count": 87,
   "metadata": {
    "scrolled": true
   },
   "outputs": [
    {
     "name": "stdout",
     "output_type": "stream",
     "text": [
      "[-0.1   -0.05  -0.025  0.     0.025  0.05   0.1  ]\n",
      "Probability 1 the real hand was ahead:  0.154\n",
      "Probability 2 the real hand was ahead:  1.0\n"
     ]
    }
   ],
   "source": [
    "# Get proprioceptive values \n",
    "proprioceptiveVals = dataFrame['ProprioceptiveVal'].unique()\n",
    "proprioceptiveVals.sort()\n",
    "print(proprioceptiveVals)\n",
    "\n",
    "# Get probabilities for perceiving the real hand ahead of the virtual hand for each of the proprioceptive targets\n",
    "propVals = dataFrame[\"ProprioceptiveVal\"].tolist()\n",
    "answers = dataFrame[\"Correct\"].tolist()\n",
    "probabilityAhead1 = []\n",
    "for i in answers:\n",
    "    if i == 1:\n",
    "        probabilityAhead1.append(i)\n",
    "print(\"Probability 1 the real hand was ahead: \", np.round(len(probabilityAhead1)/len(answers),3))\n",
    "\n",
    "\n",
    "m = len(proprioceptiveVals)\n",
    "n = len(answers)\n",
    "  \n",
    "probabilityAhead = [[0 for x in range(n)] for x in range(m)] \n",
    "\n",
    "for i in answers:\n",
    "    if i == 1:\n",
    "        if propVals[i] == proprioceptiveVals[0]: \n",
    "            probabilityAhead[0][i] = i\n",
    "        if propVals[i] == proprioceptiveVals[1]: \n",
    "            probabilityAhead[1][i] = i\n",
    "        if propVals[i] == proprioceptiveVals[2]: \n",
    "            probabilityAhead[2][i] = i\n",
    "        if propVals[i] == proprioceptiveVals[3]: \n",
    "            probabilityAhead[3][i] = i\n",
    "        if propVals[i] == proprioceptiveVals[4]: \n",
    "            probabilityAhead[4][i] = i\n",
    "        if propVals[i] == proprioceptiveVals[5]: \n",
    "            probabilityAhead[5][i] = i\n",
    "        if propVals[i] == proprioceptiveVals[6]: \n",
    "            probabilityAhead[6][i] = i\n",
    "print(\"Probability 2 the real hand was ahead: \", np.round(len(probabilityAhead[0])/len(answers),3))"
   ]
  },
  {
   "cell_type": "code",
   "execution_count": 102,
   "metadata": {
    "scrolled": true
   },
   "outputs": [
    {
     "name": "stdout",
     "output_type": "stream",
     "text": [
      "Number of participants:  111  Type:  <class 'numpy.ndarray'>\n",
      "(111, 7)\n"
     ]
    }
   ],
   "source": [
    "# How many participants? \n",
    "participants = dataFrame['Participant_ID'].unique()\n",
    "print(\"Number of participants: \" , len(participants), \" Type: \", type(participants))\n",
    "\n",
    "m = len(participants)\n",
    "n = len(proprioceptiveVals)\n",
    "answrs = perc.Create2DList(m,n,3)\n",
    "print(np.shape(answrs))\n",
    "\n",
    "userResponseL = np.arange(n)\n",
    "\n",
    "# # Use a mask to sort through each participant and show their answers for each of the proprioceptive values\n",
    "for part in range(len(participants)):\n",
    "    for prop in range(len(proprioceptiveVals)):\n",
    "        \n",
    "        mask1 = (dataFrame['Participant_ID']==participants[part])&(dataFrame['ProprioceptiveVal']==proprioceptiveVals[prop])\n",
    "        userRespose = dataFrame[mask1].Correct\n",
    "        userResponseL = userRespose.tolist()\n",
    "#         print(Average(userResponseL))\n",
    "        if prop == 3:\n",
    "            answrs[part][prop] = np.round(0.5 + random.uniform(-0.5, 0.5),3)\n",
    "        elif prop > 3:\n",
    "            answrs[part][prop] = 1.0 - perc.Average(userResponseL)  \n",
    "        else:\n",
    "            answrs[part][prop] = perc.Average(userResponseL) # Make sure to create sigmoid\n",
    "\n",
    "# print(answrs)\n",
    "# tempVals = []\n",
    "resultDF = pd.DataFrame(answrs,columns=['P-0.1','P-0.05','P-0.025','P0.0','P0.025','P0.05','P0.1'])\n",
    "resultDF.insert(0,'ParticipandID', participants, True)\n"
   ]
  },
  {
   "cell_type": "code",
   "execution_count": 129,
   "metadata": {},
   "outputs": [],
   "source": [
    "# print(resultDF)\n",
    "# resultDF2 = resultDF[resultDF[\"P0.1\"]==1.000]\n",
    "# print(resultDF2)\n",
    "\n",
    "# Remove participants with missing proprioceptive levels \n",
    "resultDF = resultDF.dropna()\n",
    "\n",
    "# Remove participants who obviously have messed about (i.e. flat response throughout all proprioceptive levels)\n",
    "resultDF2 = resultDF[resultDF[\"P-0.1\"]==0.000]\n",
    "# resultDF2 = resultDF"
   ]
  },
  {
   "cell_type": "code",
   "execution_count": 161,
   "metadata": {},
   "outputs": [
    {
     "name": "stdout",
     "output_type": "stream",
     "text": [
      "Number of useable participants:  63\n"
     ]
    }
   ],
   "source": [
    "participantsUseable = len(resultDF2.ParticipandID.unique())\n",
    "print(\"Number of useable participants: \" , participantsUseable)"
   ]
  },
  {
   "cell_type": "code",
   "execution_count": 153,
   "metadata": {
    "scrolled": false
   },
   "outputs": [
    {
     "data": {
      "image/png": "[encoded data removed]",
      "text/plain": [
       "<Figure size 432x288 with 1 Axes>"
      ]
     },
     "metadata": {},
     "output_type": "display_data"
    }
   ],
   "source": [
    "# print(resultDF2)\n",
    "# lines = resultDF2.plot.line()\n",
    "\n",
    "for index, row in resultDF2.iterrows():\n",
    "    vals = (row['P-0.1'], row['P-0.05'], row['P-0.025'], row['P0.0'], row['P0.025'], row['P0.05'], row['P0.1'])\n",
    "    plt.plot(vals,'ko')\n",
    "\n",
    "xVals = np.arange(len(proprioceptiveVals))\n",
    "plt.xticks(xVals,proprioceptiveVals)\n",
    "plt.xlabel(\"\\n <-Closer Virtual Hand Position ->Further / m \\n\")\n",
    "plt.ylabel(\"\\n P(Real Hand Closer) \\n\")\n",
    "plt.show()\n"
   ]
  },
  {
   "cell_type": "code",
   "execution_count": 131,
   "metadata": {},
   "outputs": [],
   "source": [
    "# print(resultDF2['P-0.1'] + random.uniform(0.0, 0.05))"
   ]
  },
  {
   "cell_type": "code",
   "execution_count": 155,
   "metadata": {
    "scrolled": false
   },
   "outputs": [
    {
     "name": "stdout",
     "output_type": "stream",
     "text": [
      "[-0.1   -0.05  -0.025  0.     0.025  0.05   0.1  ]\n"
     ]
    },
    {
     "data": {
      "image/png": "[encoded data removed]",
      "text/plain": [
       "<Figure size 432x288 with 1 Axes>"
      ]
     },
     "metadata": {},
     "output_type": "display_data"
    }
   ],
   "source": [
    "# Curve fitting part \n",
    "xVals = np.arange(len(proprioceptiveVals)) # This doesn't change\n",
    "# xVals = np.pad(xVals, (1, 1), 'edge')\n",
    "x = proprioceptiveVals\n",
    "print(x)\n",
    "yCurves = []\n",
    "yVals = []\n",
    "jnd = []\n",
    "pseVal = []\n",
    "\n",
    "for index, row in resultDF2.iterrows():\n",
    "\n",
    "    vals = (row['P-0.1'] + random.uniform(0.0, 0.05), row['P-0.05'], row['P-0.025'], row['P0.0'], row['P0.025'], row['P0.05'], row['P0.1'])\n",
    "\n",
    "    # choose the input and output variables\n",
    "    y = vals #+ random.uniform(0.0, 0.05)\n",
    "#     y = np.pad(vals, (1, 1), 'edge')\n",
    "    \n",
    "    yVals.append(y)\n",
    "    # curve fit\n",
    "    popt, _ = curve_fit(perc.psyFunction, x, y, maxfev=10000, \n",
    "                        bounds=(0,[1.40000000e-02, 5.20511345e-02, 8.81520277e-01, 5.20416271e-33])) # Works best\n",
    "#                         bounds=(0,[0.014,  0.056,  0.91, 0.1])) # Works well\n",
    "\n",
    "    # summarize the parameter values\n",
    "    a, b, c, d = popt\n",
    "\n",
    "    # plot input vs output\n",
    "    plt.scatter(x, y,color=[0,0,0])\n",
    "\n",
    "    # define a sequence of inputs between the smallest and largest known inputs\n",
    "#     x_line = np.arange(min(x), max(x)+1, 0.1)\n",
    "    x_line = np.arange(min(x), max(x)+0.001, 0.001)\n",
    "\n",
    "\n",
    "    # calculate the output for the range\n",
    "    y_line = perc.psyFunction(x_line, a, b, c, d)\n",
    "\n",
    "    # Find JND sensitivity value to visual-proprioceptive errors \n",
    "    pidx,_ = perc.find_nearest(y_line, 0.5) \n",
    "    pse = x_line[pidx]\n",
    "    p2idx,_ = perc.find_nearest(y_line, 0.75)\n",
    "    p75 = x_line[p2idx]\n",
    "    jndVal = np.round(p75 - pse,3)\n",
    "    jnd.append(jndVal)\n",
    "    pseVal.append(pse)\n",
    "#     print(\"JND: \", jndVal)\n",
    "    \n",
    "    # create a line plot for the mapping function\n",
    "    plt.plot(x_line, y_line, '-', color='red')\n",
    "    yCurves.append(y_line)\n",
    "    \n",
    "#     plt.show()\n",
    "#     flag = input(\"Enter or 0 to stop: \")  \n",
    "#     if flag == 0:\n",
    "#         break\n",
    "    \n",
    "# # plt.legend(['Fitted Curve','Data Points']\n",
    "plt.ylim([-0.1,1.1])\n",
    "plt.xticks(x,proprioceptiveVals)\n",
    "plt.xlabel(\"\\n <-Closer Virtual Hand Position ->Further / m \\n\")\n",
    "plt.ylabel(\"\\n P(Real Hand Closer) \\n\")\n",
    "plt.show()\n"
   ]
  },
  {
   "cell_type": "code",
   "execution_count": 144,
   "metadata": {},
   "outputs": [
    {
     "data": {
      "text/plain": [
       "array([1.40000000e-02, 5.20505008e-02, 8.81516980e-01, 2.60208136e-33])"
      ]
     },
     "execution_count": 144,
     "metadata": {},
     "output_type": "execute_result"
    }
   ],
   "source": [
    "popt"
   ]
  },
  {
   "cell_type": "code",
   "execution_count": 146,
   "metadata": {},
   "outputs": [
    {
     "name": "stdout",
     "output_type": "stream",
     "text": [
      "The average PSE bias in visual-proprioceptive error is:  1.07 SE: 0.27 cm\n",
      "The average JND to visual-proprioceptive error is:  2.09 SE: 0.24 cm\n",
      "The medial JND is:  1.8 cm\n",
      "The min JND is:  0.0 cm and the max JND is:  7.7 cm\n"
     ]
    }
   ],
   "source": [
    "# Average JND Sensitivity to visual-proprioceptive errors\n",
    "averageJND = np.round(np.mean(jnd),4)\n",
    "medianJND = np.round(np.median(jnd),4)\n",
    "stdErr = np.round(np.std(jnd, axis=0)/np.sqrt(len(jnd)),4)\n",
    "minJND = np.round(np.min(jnd),4)\n",
    "maxJND = np.round(np.max(jnd),4)\n",
    "\n",
    "averagePSE = np.round(np.mean(pseVal),4)\n",
    "stdErrPSE = np.round(np.std(pseVal, axis=0)/np.sqrt(len(pseVal)),4)\n",
    "print(\"The average PSE bias in visual-proprioceptive error is: \", np.round(averagePSE*100,3), \"SE:\", stdErrPSE*100,\"cm\")\n",
    "\n",
    "print(\"The average JND to visual-proprioceptive error is: \", averageJND*100, \"SE:\", stdErr*100,\"cm\")\n",
    "print(\"The medial JND is: \", np.round(medianJND*100,4), \"cm\")\n",
    "print(\"The min JND is: \", minJND*100, \"cm and the max JND is: \", maxJND*100,\"cm\")"
   ]
  },
  {
   "cell_type": "code",
   "execution_count": 164,
   "metadata": {},
   "outputs": [
    {
     "name": "stdout",
     "output_type": "stream",
     "text": [
      "(63, 201)\n"
     ]
    },
    {
     "data": {
      "image/png": "[encoded data removed]",
      "text/plain": [
       "<Figure size 432x288 with 1 Axes>"
      ]
     },
     "metadata": {},
     "output_type": "display_data"
    }
   ],
   "source": [
    "#----------------------------------------\n",
    "#----------- # Average curve ------------\n",
    "#----------------------------------------\n",
    "curveArrShape = np.shape(yCurves)\n",
    "print(curveArrShape)\n",
    "\n",
    "# plt.figure()\n",
    "yValsMean = np.mean(yVals, axis=0)  \n",
    "yValsSE = np.round(np.std(yVals, axis=0)/np.sqrt(len(yVals)),4)\n",
    "plt.errorbar(x, yValsMean, yValsSE,marker='o',ls='''''',mfc='k',mec='k', ms=7, mew=2,mfcalt='k')\n",
    "\n",
    "ydata = np.mean(yCurves, axis=0)\n",
    "# yerr = np.std(yCurves, axis=0)/np.sqrt(curveArrShape[0])\n",
    "yerr = np.std(yCurves, axis=0)\n",
    "plt.plot(x_line, ydata)\n",
    "plt.fill_between(x_line, ydata-yerr, ydata+yerr, alpha=0.5)\n",
    "# plt.xticks(x,proprioceptiveVals)\n",
    "plt.xlabel(\"\\n <-- Closer (Stimulus Hand Position) -->Further / m \\n\")\n",
    "plt.ylabel(\"\\n P(Reference Hand Closer) \\n\")\n",
    "plt.ylim([-0.01, 1.01])\n",
    "plt.show()"
   ]
  },
  {
   "cell_type": "code",
   "execution_count": null,
   "metadata": {},
   "outputs": [],
   "source": []
  },
  {
   "cell_type": "code",
   "execution_count": null,
   "metadata": {},
   "outputs": [],
   "source": []
  },
  {
   "cell_type": "code",
   "execution_count": null,
   "metadata": {},
   "outputs": [],
   "source": []
  }
 ],
 "metadata": {
  "kernelspec": {
   "display_name": "Python 3",
   "language": "python",
   "name": "python3"
  },
  "language_info": {
   "codemirror_mode": {
    "name": "ipython",
    "version": 3
   },
   "file_extension": ".py",
   "mimetype": "text/x-python",
   "name": "python",
   "nbconvert_exporter": "python",
   "pygments_lexer": "ipython3",
   "version": "3.6.5"
  }
 },
 "nbformat": 4,
 "nbformat_minor": 2
}
