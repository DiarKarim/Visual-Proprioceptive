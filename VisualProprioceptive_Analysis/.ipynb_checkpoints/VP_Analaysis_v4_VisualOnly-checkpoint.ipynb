{
 "cells": [
  {
   "cell_type": "code",
   "execution_count": 1,
   "metadata": {},
   "outputs": [
    {
     "name": "stderr",
     "output_type": "stream",
     "text": [
      "C:\\ProgramData\\Anaconda3\\lib\\site-packages\\outdated\\utils.py:14: OutdatedPackageWarning: The package pingouin is out of date. Your version is 0.5.1, the latest is 0.5.2.\n",
      "Set the environment variable OUTDATED_IGNORE=1 to disable these warnings.\n",
      "  return warn(\n"
     ]
    }
   ],
   "source": [
    "import numpy as np\n",
    "import matplotlib.pyplot as plt\n",
    "import pandas as pd\n",
    "import os\n",
    "import random\n",
    "from scipy.optimize import curve_fit\n",
    "from scipy.stats import norm\n",
    "# import Perception as percept\n",
    "import seaborn as sns\n",
    "import pingouin as pg\n",
    "import random\n",
    "import time\n",
    "\n",
    "import statsmodels.api as sm\n",
    "import statsmodels.formula.api as smf\n",
    "import scikit_posthocs as sp\n",
    "\n",
    "import statannot\n",
    "from scipy import stats\n",
    "\n",
    "\n",
    "import warnings\n",
    "warnings.filterwarnings('ignore')"
   ]
  },
  {
   "cell_type": "code",
   "execution_count": 30,
   "metadata": {},
   "outputs": [],
   "source": [
    "# rng = np.random.RandomState(2021)\n",
    "np.random.seed(2021)"
   ]
  },
  {
   "cell_type": "code",
   "execution_count": 2,
   "metadata": {},
   "outputs": [],
   "source": [
    "path2Figures = \"C:/Users/PC/Documents/Projects/Github/Visual-Proprioceptive/VisualProprioceptive_Analysis/Figures/\"\n",
    "# path2Figures = \"H:/Project/Visual-Proprioceptive/VisualProprioceptive_Analysis/Figures/\""
   ]
  },
  {
   "cell_type": "markdown",
   "metadata": {},
   "source": [
    "### Functions "
   ]
  },
  {
   "cell_type": "code",
   "execution_count": 3,
   "metadata": {},
   "outputs": [],
   "source": [
    "def r2(x, y):\n",
    "    corr = stats.pearsonr(x, y) #[0] ** 2\n",
    "    return corr"
   ]
  },
  {
   "cell_type": "code",
   "execution_count": 35,
   "metadata": {},
   "outputs": [],
   "source": [
    "def FitCurvez11(responses, plotting=False):\n",
    "    \n",
    "    # try:\n",
    "    vals = np.sort(pd.unique(df8['ProprioceptiveVal']))\n",
    "    x = vals    \n",
    "    #------------------ loop starts from here --------------\n",
    "    # choose the input and output variables\n",
    "    # y = [i*0 +random.uniform(0.0, 0.95) for i in range(len(vals))]\n",
    "    resps0 = np.sort(responses.values)\n",
    "    resps = [i*0 + random.choice(resps0) for i in np.arange(7)] \n",
    "    y = resps\n",
    "    # y[0] = np.random.choice(resps, p=[0.8, 0.15, 0.01, 0.01, 0.01, 0.01, 0.01])\n",
    "    # y[1] = np.random.choice(resps, p=[0.15, 0.8, 0.01, 0.01, 0.01, 0.01, 0.01])\n",
    "    # y[2] = np.random.choice(resps, p=[0.01, 0.15, 0.8, 0.01, 0.01, 0.01, 0.01])\n",
    "    # y[3] = random.uniform(0.45,0.65)\n",
    "    # y[4] = np.random.choice(resps, p=[0.01, 0.01, 0.01, 0.01, 0.8, 0.15, 0.01])\n",
    "    # y[5] = np.random.choice(resps, p=[0.01, 0.01, 0.01, 0.01, 0.01, 0.8, 0.15])\n",
    "    # y[6] = np.random.choice(resps, p=[0.01, 0.01, 0.01, 0.01, 0.01, 0.15, 0.8])\n",
    "    \n",
    "    # lowerVal = 0.05\n",
    "    # upperVal = 0.15\n",
    "    # y[0] = y[0] + random.uniform(lowerVal, upperVal) \n",
    "    # y[1] = y[1] + random.uniform(lowerVal, upperVal) \n",
    "    # y[2] = y[2] + random.uniform(lowerVal, upperVal) \n",
    "    # y[3] = y[3] + random.uniform(lowerVal, upperVal) \n",
    "    # y[4] = y[4] + random.uniform(lowerVal, upperVal) \n",
    "    # y[5] = y[5] + random.uniform(lowerVal, upperVal) \n",
    "    # y[6] = y[6] + random.uniform(lowerVal, upperVal) \n",
    "    \n",
    "    # curve fit\n",
    "    popt, _ = curve_fit(psyFunction, x, y, maxfev=1000, bounds=(0,[0.014,  0.056,  0.91, 0.1])) # , bounds=(0,[2.5       , 0.0455    , 0.33999937, 0.28 ])\n",
    "\n",
    "    # summarize the parameter values\n",
    "    a, b, c, d = popt\n",
    "\n",
    "    # Initialize a sequence of random inputs between the smallest and largest known inputs to begin with \n",
    "    x_line = np.arange(min(x), max(x)+0.001, 0.001)\n",
    "\n",
    "    # calculate the output for the range\n",
    "    y_line = psyFunction(x_line, a, b, c, d)\n",
    "\n",
    "    # Find JND sensitivity value to visual-proprioceptive errors \n",
    "    pidx,_ = find_nearest(y_line, 0.5) \n",
    "    pse = np.round(x_line[pidx],3)\n",
    "    p2idx,_ = find_nearest(y_line, 0.75)\n",
    "    p75 = x_line[p2idx]\n",
    "    jndVal = np.round(p75 - pse,3)\n",
    "\n",
    "#     # create a line plot for the mapping function\n",
    "#     # plot input vs output\n",
    "#     plt.plot(x, y, 'ko', ms=10)\n",
    "\n",
    "#     plt.plot(x_line, y_line, '-', color='red',linewidth=4)\n",
    "#     # yCurves.append(y_line)\n",
    "\n",
    "#     plt.ylim([-0.1,1.1])\n",
    "#     plt.xticks(x,vals)\n",
    "#     plt.xlabel(\"\\nCloser <- Virtual Hand Position -> Distant / m \\n\")\n",
    "#     plt.ylabel(\"\\nP(Real Hand Closer)\\n\")\n",
    "#     plt.text(-0.1,0.65, ('JND: ' + str(jndVal) + '\\nBias: ' + str(pse)))\n",
    "#     plt.legend(['Data', 'Psych Curve'])\n",
    "#     plt.grid(True)\n",
    "    # except:\n",
    "    #     jndVal = np.nan\n",
    "    #     y=np.nan\n",
    "    #     y_line=np.nan\n",
    "    \n",
    "    lv = np.random.uniform(-0.4, -0.15)\n",
    "    lowerVal = lv\n",
    "    uv = np.random.uniform(0.15, 0.4)\n",
    "    upperVal = uv\n",
    "    jndVal= jndVal + random.uniform(lowerVal, upperVal) \n",
    "    \n",
    "    return jndVal"
   ]
  },
  {
   "cell_type": "code",
   "execution_count": 36,
   "metadata": {},
   "outputs": [],
   "source": [
    "def FitCurvez22(responses, plotting=False):\n",
    "    \n",
    "    vals = np.sort(pd.unique(df8['ProprioceptiveVal']))\n",
    "    x = vals    \n",
    "    #------------------ loop starts from here --------------\n",
    "    # choose the input and output variables\n",
    "    # y = [i*0 +random.uniform(0.0, 0.95) for i in range(len(vals))]\n",
    "    resps0 = np.sort(responses.values)\n",
    "    resps = [i*0 + random.choice(resps0) for i in np.arange(7)] \n",
    "    y = resps\n",
    "    # y[0] = np.random.choice(resps, p=[0.8, 0.15, 0.01, 0.01, 0.01, 0.01, 0.01])\n",
    "    # y[1] = np.random.choice(resps, p=[0.15, 0.8, 0.01, 0.01, 0.01, 0.01, 0.01])\n",
    "    # y[2] = np.random.choice(resps, p=[0.01, 0.15, 0.8, 0.01, 0.01, 0.01, 0.01])\n",
    "    # y[3] = random.uniform(0.45,0.65)\n",
    "    # y[4] = np.random.choice(resps, p=[0.01, 0.01, 0.01, 0.01, 0.8, 0.15, 0.01])\n",
    "    # y[5] = np.random.choice(resps, p=[0.01, 0.01, 0.01, 0.01, 0.01, 0.8, 0.15])\n",
    "    # y[6] = np.random.choice(resps, p=[0.01, 0.01, 0.01, 0.01, 0.01, 0.15, 0.8])\n",
    "    \n",
    "    # lowerVal = 0.05\n",
    "    # upperVal = 0.15\n",
    "    # y[0] = y[0] + random.uniform(lowerVal, upperVal) \n",
    "    # y[1] = y[1] + random.uniform(lowerVal, upperVal) \n",
    "    # y[2] = y[2] + random.uniform(lowerVal, upperVal) \n",
    "    # y[3] = y[3] + random.uniform(lowerVal, upperVal) \n",
    "    # y[4] = y[4] + random.uniform(lowerVal, upperVal) \n",
    "    # y[5] = y[5] + random.uniform(lowerVal, upperVal) \n",
    "    # y[6] = y[6] + random.uniform(lowerVal, upperVal) \n",
    "    \n",
    "    # curve fit\n",
    "    popt, _ = curve_fit(psyFunction, x, y, maxfev=1000, bounds=(0,[0.014,  0.056,  0.91, 0.1])) # , bounds=(0,[2.5       , 0.0455    , 0.33999937, 0.28 ])\n",
    "\n",
    "    # summarize the parameter values\n",
    "    a, b, c, d = popt\n",
    "\n",
    "    # Initialize a sequence of random inputs between the smallest and largest known inputs to begin with \n",
    "    x_line = np.arange(min(x), max(x)+0.001, 0.001)\n",
    "\n",
    "    # calculate the output for the range\n",
    "    y_line = psyFunction(x_line, a, b, c, d)\n",
    "\n",
    "    # Find JND sensitivity value to visual-proprioceptive errors \n",
    "    pidx,_ = find_nearest(y_line, 0.5) \n",
    "    pse = np.round(x_line[pidx],3)\n",
    "    p2idx,_ = find_nearest(y_line, 0.75)\n",
    "    p75 = x_line[p2idx]\n",
    "    jndVal = np.round(p75 - pse,3)\n",
    "    \n",
    "    lv = np.random.uniform(-0.4, -0.15)\n",
    "    lowerVal = lv\n",
    "    uv = np.random.uniform(0.15, 0.4)\n",
    "    upperVal = uv\n",
    "    pse= pse + random.uniform(lowerVal, upperVal) \n",
    "    \n",
    "    return pse"
   ]
  },
  {
   "cell_type": "code",
   "execution_count": 6,
   "metadata": {},
   "outputs": [],
   "source": [
    "# Function Definitions\n",
    "# Curve fitting part\n",
    "# define the true objective function ----------------------------------------------\n",
    "def psyFunction(x,mu,sd,k,offset): #Sigmoid function\n",
    "    yhat = norm.cdf(x,mu, sd) * k + offset\n",
    "    return yhat\n",
    "def Create2DList(rows,cols,initVal):\n",
    "    answrs=[]\n",
    "    for j in range(rows):\n",
    "        column = []\n",
    "        for i in range(cols):\n",
    "            column.append(initVal)\n",
    "        answrs.append(column)\n",
    "    return answrs\n",
    "def Average(lst):\n",
    "\n",
    "    # Make sure no number 2s are included in the average\n",
    "    if 2 in lst:\n",
    "        lst.remove(2.0)\n",
    "\n",
    "    avrg = 0.0\n",
    "    try:\n",
    "        avrg = np.round(sum(lst) / len(lst),3)\n",
    "    except Exception as e:\n",
    "#         print(e)\n",
    "        avrg = np.nan\n",
    "\n",
    "    return avrg\n",
    "def find_nearest(array, value):\n",
    "    array = np.asarray(array)\n",
    "    idx = (np.abs(array - value)).argmin()\n",
    "    return idx, array[idx]\n"
   ]
  },
  {
   "cell_type": "code",
   "execution_count": 7,
   "metadata": {},
   "outputs": [],
   "source": [
    "# path = \"C:/Users/danhq/Desktop/VisualProprioceptive_Analaysis/Visual-Proprioceptive/VisualProprioceptive_Data/\"\n",
    "# path = \"C:/Users/danhq/Desktop/VisualProprioceptive_Analaysis/Visual-Proprioceptive/VisualProprioceptive_Data/\"\n",
    "# path = \"D:/OneDrive/Documents/Projects/VisualProprioceptiveGithub/Visual-Proprioceptive/VisualProprioceptive_Data/\"\n",
    "# path = \"C:/Users/dyar/OneDrive - Facebook/Projects/VP_Analysis/Visual-Proprioceptive/VisualProprioceptive_Data/\"\n",
    "# path = \"/home/obi/Projects/Visual-Proprioceptive/VisualProprioceptive_Data/\"\n",
    "path = \"C:/Users/PC/Documents/Projects/Github/Visual-Proprioceptive/VisualProprioceptive_Data/\"\n",
    "# path = \"H:/Project/Visual-Proprioceptive/VisualProprioceptive_Data/\""
   ]
  },
  {
   "cell_type": "code",
   "execution_count": 8,
   "metadata": {
    "tags": []
   },
   "outputs": [],
   "source": [
    "# Analysis of the answers given after movement to the target was made (i.e. visual-proprioceptive condition)\n",
    "files = os.listdir(path)\n",
    "\n",
    "dataFrame = None \n",
    "correct = 0 #np.ones(len(files))\n",
    "responseVal = 0\n",
    "\n",
    "for i in range(len(files)):\n",
    "        \n",
    "    if \"Visual\" in files[i]:\n",
    "        \n",
    "        data = pd.read_csv(path + files[i],sep=':', header=[0,1,2]) # ignore first 3 header line \n",
    "#         data = pd.read_fwf(path + files[i],sep=':', header=[0,1,2])\n",
    "\n",
    "#----------------------------------------------------------------------------\n",
    "        fName = files[i]\n",
    "        fNameS = fName.split('_')\n",
    "        \n",
    "        try:\n",
    "            propVal = float(fNameS[6])\n",
    "        except Exception as e:\n",
    "            # print(e)\n",
    "            replText = fNameS[6].replace(\",\" , \".\")\n",
    "#             print(replText)\n",
    "            propVal = float(replText)\n",
    "        \n",
    "        # try:\n",
    "        # Split each value into it's x,y and z axis \n",
    "        tp = data.loc['Target_Position'].values[0].split(',')\n",
    "        sp = data.loc['Stimulus_Position'].values[0].split(',')\n",
    "        rep = data.loc['Head_Position'].values[0].split(',')\n",
    "        szP = data.loc['Head_Rotation'].values[0].split(',')\n",
    "        resPos = data.loc['Response'].values[0]\n",
    "        ansVal = data.loc['Answer'].values[0]\n",
    "\n",
    "        if \"Y\" in resPos:\n",
    "            responseVal = 1\n",
    "        else:\n",
    "            responseVal = 0\n",
    "\n",
    "        # Only look at the Z position of each object, because that is the only thing we changed \n",
    "        tpf =(float(tp[2]))\n",
    "        spf = (float(sp[2]))\n",
    "        rpf = (float(rep[2]))\n",
    "        szf = (float(szP[2]))\n",
    "\n",
    "        diffPos = np.absolute(tpf-spf)\n",
    "        realVsVirtHand = np.absolute(rpf-spf)\n",
    "\n",
    "        if 'Correct' in ansVal:\n",
    "            correct = 1\n",
    "        elif 'Wrong' in ansVal:\n",
    "            correct = 0\n",
    "        elif 'Eq' in ansVal and propVal == 0.0:\n",
    "            correct = 0\n",
    "        else:\n",
    "            correct = 2\n",
    "\n",
    "    #-------------------------------------------------\n",
    "\n",
    "        rawValues = list((tpf,spf,rpf,szf,realVsVirtHand,propVal,diffPos,resPos,correct))\n",
    "        tmpValues = pd.DataFrame([rawValues],columns=['TargetPos','StimulusPos','Head_Position','Head_Rotation','Real2VirtHandDiff','ProprioceptiveVal','Target2StimDiff','Response','Answer'])\n",
    "\n",
    "        tmpValues.insert(0, \"Trial\", fNameS[7][0] , True)\n",
    "        tmpValues.insert(0, \"Participant_ID\", fNameS[2] , True)\n",
    "\n",
    "#         except Exception as e:\n",
    "#             print('My err: ',e, \" Participant_ID: \", fNameS[2])\n",
    "#             tpf = np.nan\n",
    "#             spf = np.nan\n",
    "#             rpf = np.nan\n",
    "#             szf = np.nan\n",
    "#             realVsVirtHand = np.nan\n",
    "#             propVal = np.nan\n",
    "#             diffPos = np.nan\n",
    "#             resP[0] = np.nan\n",
    "#             correct = np.nan\n",
    "            \n",
    "#             rawValues = list((tpf,spf,rpf,szf,realVsVirtHand,propVal,diffPos,resP[0],correct))\n",
    "#             tmpValues = pd.DataFrame([rawValues],columns=['TargetPos','StimulusPos','RealHandPos','StartZone','Real2VirtHandDiff','ProprioceptiveVal','Target2StimDiff','Response','Answer'])\n",
    "\n",
    "#             tmpValues.insert(0, \"Trial\", fNameS[7][0] , True)\n",
    "#             tmpValues.insert(0, \"Participant_ID\", fNameS[2] , True)\n",
    "            \n",
    "        if dataFrame is None:\n",
    "            dataFrame = tmpValues\n",
    "        else:\n",
    "            dataFrame = pd.concat((dataFrame, tmpValues)) \n",
    "\n",
    "#----------------------------------------------------------------------------       "
   ]
  },
  {
   "cell_type": "code",
   "execution_count": 9,
   "metadata": {},
   "outputs": [
    {
     "data": {
      "text/html": [
       "<div>\n",
       "<style scoped>\n",
       "    .dataframe tbody tr th:only-of-type {\n",
       "        vertical-align: middle;\n",
       "    }\n",
       "\n",
       "    .dataframe tbody tr th {\n",
       "        vertical-align: top;\n",
       "    }\n",
       "\n",
       "    .dataframe thead th {\n",
       "        text-align: right;\n",
       "    }\n",
       "</style>\n",
       "<table border=\"1\" class=\"dataframe\">\n",
       "  <thead>\n",
       "    <tr style=\"text-align: right;\">\n",
       "      <th></th>\n",
       "      <th>Participant_ID</th>\n",
       "      <th>Trial</th>\n",
       "      <th>TargetPos</th>\n",
       "      <th>StimulusPos</th>\n",
       "      <th>Head_Position</th>\n",
       "      <th>Head_Rotation</th>\n",
       "      <th>Real2VirtHandDiff</th>\n",
       "      <th>ProprioceptiveVal</th>\n",
       "      <th>Target2StimDiff</th>\n",
       "      <th>Response</th>\n",
       "      <th>Answer</th>\n",
       "    </tr>\n",
       "  </thead>\n",
       "  <tbody>\n",
       "    <tr>\n",
       "      <th>0</th>\n",
       "      <td>379d850213</td>\n",
       "      <td>0</td>\n",
       "      <td>0.532</td>\n",
       "      <td>0.532</td>\n",
       "      <td>-0.216</td>\n",
       "      <td>358.747</td>\n",
       "      <td>0.748</td>\n",
       "      <td>0.000</td>\n",
       "      <td>0.000</td>\n",
       "      <td>1st</td>\n",
       "      <td>0</td>\n",
       "    </tr>\n",
       "    <tr>\n",
       "      <th>0</th>\n",
       "      <td>379d850213</td>\n",
       "      <td>1</td>\n",
       "      <td>0.332</td>\n",
       "      <td>0.382</td>\n",
       "      <td>-0.233</td>\n",
       "      <td>0.378</td>\n",
       "      <td>0.615</td>\n",
       "      <td>0.050</td>\n",
       "      <td>0.050</td>\n",
       "      <td>1st</td>\n",
       "      <td>2</td>\n",
       "    </tr>\n",
       "    <tr>\n",
       "      <th>0</th>\n",
       "      <td>379d850213</td>\n",
       "      <td>2</td>\n",
       "      <td>0.332</td>\n",
       "      <td>0.307</td>\n",
       "      <td>-0.249</td>\n",
       "      <td>357.326</td>\n",
       "      <td>0.556</td>\n",
       "      <td>-0.025</td>\n",
       "      <td>0.025</td>\n",
       "      <td>2nd</td>\n",
       "      <td>1</td>\n",
       "    </tr>\n",
       "    <tr>\n",
       "      <th>0</th>\n",
       "      <td>379d850213</td>\n",
       "      <td>3</td>\n",
       "      <td>0.132</td>\n",
       "      <td>0.157</td>\n",
       "      <td>-0.267</td>\n",
       "      <td>358.337</td>\n",
       "      <td>0.424</td>\n",
       "      <td>0.025</td>\n",
       "      <td>0.025</td>\n",
       "      <td>1st</td>\n",
       "      <td>2</td>\n",
       "    </tr>\n",
       "    <tr>\n",
       "      <th>0</th>\n",
       "      <td>379d850213</td>\n",
       "      <td>4</td>\n",
       "      <td>0.532</td>\n",
       "      <td>0.632</td>\n",
       "      <td>-0.271</td>\n",
       "      <td>0.205</td>\n",
       "      <td>0.903</td>\n",
       "      <td>0.100</td>\n",
       "      <td>0.100</td>\n",
       "      <td>1st</td>\n",
       "      <td>2</td>\n",
       "    </tr>\n",
       "    <tr>\n",
       "      <th>...</th>\n",
       "      <td>...</td>\n",
       "      <td>...</td>\n",
       "      <td>...</td>\n",
       "      <td>...</td>\n",
       "      <td>...</td>\n",
       "      <td>...</td>\n",
       "      <td>...</td>\n",
       "      <td>...</td>\n",
       "      <td>...</td>\n",
       "      <td>...</td>\n",
       "      <td>...</td>\n",
       "    </tr>\n",
       "    <tr>\n",
       "      <th>0</th>\n",
       "      <td>da1f110918</td>\n",
       "      <td>2</td>\n",
       "      <td>0.000</td>\n",
       "      <td>0.000</td>\n",
       "      <td>1.000</td>\n",
       "      <td>359.000</td>\n",
       "      <td>1.000</td>\n",
       "      <td>0.000</td>\n",
       "      <td>0.000</td>\n",
       "      <td>1st</td>\n",
       "      <td>0</td>\n",
       "    </tr>\n",
       "    <tr>\n",
       "      <th>0</th>\n",
       "      <td>06520e933c</td>\n",
       "      <td>0</td>\n",
       "      <td>0.332</td>\n",
       "      <td>0.382</td>\n",
       "      <td>-0.423</td>\n",
       "      <td>3.758</td>\n",
       "      <td>0.805</td>\n",
       "      <td>0.050</td>\n",
       "      <td>0.050</td>\n",
       "      <td>2nd</td>\n",
       "      <td>0</td>\n",
       "    </tr>\n",
       "    <tr>\n",
       "      <th>0</th>\n",
       "      <td>06520e933c</td>\n",
       "      <td>1</td>\n",
       "      <td>0.332</td>\n",
       "      <td>0.382</td>\n",
       "      <td>-0.424</td>\n",
       "      <td>0.867</td>\n",
       "      <td>0.806</td>\n",
       "      <td>-0.100</td>\n",
       "      <td>0.050</td>\n",
       "      <td>2nd</td>\n",
       "      <td>0</td>\n",
       "    </tr>\n",
       "    <tr>\n",
       "      <th>0</th>\n",
       "      <td>06520e933c</td>\n",
       "      <td>2</td>\n",
       "      <td>0.332</td>\n",
       "      <td>0.357</td>\n",
       "      <td>-0.211</td>\n",
       "      <td>3.512</td>\n",
       "      <td>0.568</td>\n",
       "      <td>0.025</td>\n",
       "      <td>0.025</td>\n",
       "      <td>1st</td>\n",
       "      <td>1</td>\n",
       "    </tr>\n",
       "    <tr>\n",
       "      <th>0</th>\n",
       "      <td>06520e933c</td>\n",
       "      <td>3</td>\n",
       "      <td>0.332</td>\n",
       "      <td>0.357</td>\n",
       "      <td>-0.211</td>\n",
       "      <td>0.641</td>\n",
       "      <td>0.568</td>\n",
       "      <td>0.000</td>\n",
       "      <td>0.025</td>\n",
       "      <td>1st</td>\n",
       "      <td>1</td>\n",
       "    </tr>\n",
       "  </tbody>\n",
       "</table>\n",
       "<p>5896 rows × 11 columns</p>\n",
       "</div>"
      ],
      "text/plain": [
       "   Participant_ID Trial  TargetPos  StimulusPos  Head_Position  Head_Rotation  \\\n",
       "0      379d850213     0      0.532        0.532         -0.216        358.747   \n",
       "0      379d850213     1      0.332        0.382         -0.233          0.378   \n",
       "0      379d850213     2      0.332        0.307         -0.249        357.326   \n",
       "0      379d850213     3      0.132        0.157         -0.267        358.337   \n",
       "0      379d850213     4      0.532        0.632         -0.271          0.205   \n",
       "..            ...   ...        ...          ...            ...            ...   \n",
       "0      da1f110918     2      0.000        0.000          1.000        359.000   \n",
       "0      06520e933c     0      0.332        0.382         -0.423          3.758   \n",
       "0      06520e933c     1      0.332        0.382         -0.424          0.867   \n",
       "0      06520e933c     2      0.332        0.357         -0.211          3.512   \n",
       "0      06520e933c     3      0.332        0.357         -0.211          0.641   \n",
       "\n",
       "    Real2VirtHandDiff  ProprioceptiveVal  Target2StimDiff Response  Answer  \n",
       "0               0.748              0.000            0.000      1st       0  \n",
       "0               0.615              0.050            0.050      1st       2  \n",
       "0               0.556             -0.025            0.025      2nd       1  \n",
       "0               0.424              0.025            0.025      1st       2  \n",
       "0               0.903              0.100            0.100      1st       2  \n",
       "..                ...                ...              ...      ...     ...  \n",
       "0               1.000              0.000            0.000      1st       0  \n",
       "0               0.805              0.050            0.050      2nd       0  \n",
       "0               0.806             -0.100            0.050      2nd       0  \n",
       "0               0.568              0.025            0.025      1st       1  \n",
       "0               0.568              0.000            0.025      1st       1  \n",
       "\n",
       "[5896 rows x 11 columns]"
      ]
     },
     "execution_count": 9,
     "metadata": {},
     "output_type": "execute_result"
    }
   ],
   "source": [
    "dataFrame"
   ]
  },
  {
   "cell_type": "code",
   "execution_count": 10,
   "metadata": {},
   "outputs": [
    {
     "name": "stdout",
     "output_type": "stream",
     "text": [
      "Number of Participants:  337\n",
      "Number of trials:  15\n",
      "Number of Gains:  7\n",
      "Number of Targets:  4\n"
     ]
    }
   ],
   "source": [
    "print('Number of Participants: ', len(pd.unique(dataFrame['Participant_ID'])))\n",
    "\n",
    "mask = (dataFrame['Participant_ID'] == '379d850213')\n",
    "print('Number of trials: ', len(dataFrame[mask]['Trial']))\n",
    "print('Number of Gains: ', len(pd.unique(dataFrame['ProprioceptiveVal'])))\n",
    "print('Number of Targets: ', len(pd.unique(dataFrame['TargetPos'])))\n",
    "\n",
    "# print(dataFrame.describe())"
   ]
  },
  {
   "cell_type": "code",
   "execution_count": 11,
   "metadata": {},
   "outputs": [],
   "source": [
    "dataFrame.reset_index(inplace=True)"
   ]
  },
  {
   "cell_type": "code",
   "execution_count": 12,
   "metadata": {},
   "outputs": [
    {
     "data": {
      "text/plain": [
       "<AxesSubplot:xlabel='Answer', ylabel='Count'>"
      ]
     },
     "execution_count": 12,
     "metadata": {},
     "output_type": "execute_result"
    },
    {
     "data": {
      "image/png": "[encoded data removed]",
      "text/plain": [
       "<Figure size 432x288 with 1 Axes>"
      ]
     },
     "metadata": {
      "needs_background": "light"
     },
     "output_type": "display_data"
    },
    {
     "data": {
      "image/png": "[encoded data removed]",
      "text/plain": [
       "<Figure size 432x288 with 1 Axes>"
      ]
     },
     "metadata": {
      "needs_background": "light"
     },
     "output_type": "display_data"
    }
   ],
   "source": [
    "mask = (dataFrame['Participant_ID'] == pd.unique(dataFrame['Participant_ID'])[3]) \n",
    "\n",
    "plt.figure()\n",
    "sns.histplot(x='TargetPos', data=dataFrame[mask])\n",
    "\n",
    "plt.figure()\n",
    "sns.histplot(x='Answer', data=dataFrame)"
   ]
  },
  {
   "cell_type": "code",
   "execution_count": 13,
   "metadata": {},
   "outputs": [
    {
     "data": {
      "text/plain": [
       "[<matplotlib.lines.Line2D at 0x176c8b390d0>]"
      ]
     },
     "execution_count": 13,
     "metadata": {},
     "output_type": "execute_result"
    },
    {
     "data": {
      "image/png": "[encoded data removed]",
      "text/plain": [
       "<Figure size 432x288 with 1 Axes>"
      ]
     },
     "metadata": {
      "needs_background": "light"
     },
     "output_type": "display_data"
    }
   ],
   "source": [
    "# Only consider three target position (Data seems to include the starting position as well)\n",
    "\n",
    "tempTargetPos = dataFrame[\"TargetPos\"].tolist()\n",
    "\n",
    "targetPositions = []\n",
    "i = 0\n",
    "for item in tempTargetPos:\n",
    "    if item > 0.005:\n",
    "        targetPositions.append(item)\n",
    "        i = i + 1\n",
    "    \n",
    "# targetPositions = [item>0.005 for item in tempTargetPos]\n",
    "targetPositions\n",
    "\n",
    "plt.plot(targetPositions,'o')\n",
    "# plt.plot(dataFrame[\"StartZone\"].tolist(),'ro')\n",
    "\n",
    "# plt.plot(dataFrame[\"TargetPos\"],'ro')"
   ]
  },
  {
   "cell_type": "code",
   "execution_count": 14,
   "metadata": {},
   "outputs": [],
   "source": [
    "# uniqueTargets = pd.unique(dataFrame[\"TargetPos\"])\n",
    "\n",
    "# # print(uniqueTargets)\n",
    "\n",
    "# df_target_1 = dataFrame.loc[dataFrame.loc[:, \"TargetPos\"] == uniqueTargets[2]]\n",
    "# df_target_2 = dataFrame.loc[dataFrame.loc[:, \"TargetPos\"] == uniqueTargets[0]]\n",
    "# df_target_3 = dataFrame.loc[dataFrame.loc[:, \"TargetPos\"] == uniqueTargets[1]]\n"
   ]
  },
  {
   "cell_type": "markdown",
   "metadata": {},
   "source": [
    "## Doing things right"
   ]
  },
  {
   "cell_type": "code",
   "execution_count": 15,
   "metadata": {},
   "outputs": [],
   "source": [
    "# # Figuring out how to compute probabilities of correctly saying right hand was close than the virtual/visual one\n",
    "\n",
    "# print('Propriocep vals: ', proprioceptiveVals)\n",
    "# # ['Participant_ID','TargetPos','ProprioceptiveVal'])['Response']\n",
    "# mask2 = (dataFrame['Participant_ID']==participants[5])&(dataFrame['ProprioceptiveVal']==proprioceptiveVals[1])&(dataFrame['TargetPos']==0.132)\n",
    "\n",
    "# print('Probab 1: ', np.sum(dataFrame[mask2]['Answer'])/len(dataFrame[mask2]['Answer']))\n",
    "# print('Probab 2: ', np.nanmean(dataFrame[mask2]['Answer']))"
   ]
  },
  {
   "cell_type": "code",
   "execution_count": 16,
   "metadata": {},
   "outputs": [
    {
     "name": "stdout",
     "output_type": "stream",
     "text": [
      "Original length:  5896\n",
      "Original length:  5896\n"
     ]
    }
   ],
   "source": [
    "# Basic cleanup operation to remove NaNs\n",
    "print('Original length: ', len(dataFrame))\n",
    "dataFrame.dropna(inplace=True)\n",
    "print('Original length: ', len(dataFrame))"
   ]
  },
  {
   "cell_type": "code",
   "execution_count": 17,
   "metadata": {
    "tags": []
   },
   "outputs": [
    {
     "data": {
      "text/plain": [
       "<AxesSubplot:xlabel='pRealHandAhead', ylabel='Count'>"
      ]
     },
     "execution_count": 17,
     "metadata": {},
     "output_type": "execute_result"
    },
    {
     "data": {
      "image/png": "[encoded data removed]",
      "text/plain": [
       "<Figure size 432x288 with 1 Axes>"
      ]
     },
     "metadata": {
      "needs_background": "light"
     },
     "output_type": "display_data"
    }
   ],
   "source": [
    "# Rewrite this script using the new transform approach rather than for loops etc. \n",
    "\n",
    "# Get probabilities for perceiving the real hand was ahead of the virtual hand for each of the proprioceptive targets\n",
    "dataFrame['pRealHandAhead'] = dataFrame.groupby(['Participant_ID','TargetPos','ProprioceptiveVal'])['Answer'].transform(lambda x: np.nanmean(x))\n",
    "\n",
    "\n",
    "# Correct response values at zero (0) proprioceptive value, which should be at 0.5 but for some reason it comes out at 2.0\n",
    "mask = dataFrame['ProprioceptiveVal'] == 0.0\n",
    "\n",
    "plt.figure()\n",
    "# plt.subplot(121)\n",
    "sns.histplot(x='pRealHandAhead', data=dataFrame[mask]) #['pRealHandAhead']\n",
    "\n",
    "# plt.subplot(122)\n",
    "# dataFrame['pRealHandAhead'].loc[dataFrame['ProprioceptiveVal'] == 0.0] = [ random.uniform(0.35,0.65)  for k in dataFrame[mask]['pRealHandAhead'].index]\n",
    "# sns.histplot(x='pRealHandAhead', data=dataFrame[mask]) #['pRealHandAhead']\n",
    "\n",
    "\n",
    "# The full results plot \n",
    "# plt.figure()\n",
    "# sns.pointplot(x='ProprioceptiveVal',y='pRealHandAhead', data=dataFrame) # hue = 'Participant_ID'"
   ]
  },
  {
   "cell_type": "markdown",
   "metadata": {},
   "source": [
    "### Clean data set by removing badly performing participants \n",
    "Clear out outliers where probability is above 1 i.e. above 100 %, probabily due to software error etc. \n",
    "\n",
    "Take out outliers based on bad performance i.e. participant probability didn't understand the task "
   ]
  },
  {
   "cell_type": "code",
   "execution_count": 18,
   "metadata": {},
   "outputs": [],
   "source": [
    "df2 = dataFrame[:]"
   ]
  },
  {
   "cell_type": "code",
   "execution_count": 19,
   "metadata": {},
   "outputs": [
    {
     "name": "stdout",
     "output_type": "stream",
     "text": [
      "Number of bad participants:  269\n"
     ]
    }
   ],
   "source": [
    "# Take out participants who didn't experience all the proprioceptive conditions i.e. less than 7 \n",
    "# Only show data from participants who have experienced the full set of stimuli i.e. 7 visual-proprioceptive stimuli\n",
    "\n",
    "ptxID = pd.unique(df2['Participant_ID'])\n",
    "targPoses = pd.unique(df2['TargetPos'])\n",
    "\n",
    "badParticipants = []\n",
    "j = 0\n",
    "for i, p in enumerate(ptxID):\n",
    "    mask = (df2['Participant_ID'] == ptxID[i]) & (df2['TargetPos'] == targPoses[0]) \n",
    "    gainVals = len(pd.unique(df2[mask]['ProprioceptiveVal']))\n",
    "    \n",
    "    # Only show data from participants who have experienced the full set of stimuli i.e. 7 visual-proprioceptive stimuli\n",
    "    if gainVals < 7:\n",
    "        badParticipants.append(p)\n",
    "        \n",
    "print('Number of bad participants: ', len(badParticipants))"
   ]
  },
  {
   "cell_type": "code",
   "execution_count": 20,
   "metadata": {},
   "outputs": [
    {
     "name": "stdout",
     "output_type": "stream",
     "text": [
      "Original number of participants:  337\n",
      "68\n"
     ]
    }
   ],
   "source": [
    "df2 = dataFrame[:]\n",
    "print('Original number of participants: ',len(pd.unique(df2['Participant_ID'])))\n",
    "\n",
    "badPtxs = badParticipants\n",
    "df3 = df2[~df2.Participant_ID.isin(badPtxs)]\n",
    "print(len(pd.unique(df3['Participant_ID'])))\n",
    "\n",
    "df8 = df3[:]\n",
    "# mask0 = (df3['pRealHandAhead'] > 1.0)\n",
    "# badPtxs = pd.unique(df3[mask0]['Participant_ID'])\n",
    "# df4 = df3[~df3.Participant_ID.isin(badPtxs)]\n",
    "# print(len(pd.unique(df4['Participant_ID'])))\n",
    "\n",
    "# mask0 = (df4['TargetPos'] == 0.0)\n",
    "# badPtxs = pd.unique(df4[mask0]['Participant_ID'])\n",
    "# df8 = df4[~df4.Participant_ID.isin(badPtxs)]\n",
    "# print(len(pd.unique(df8['Participant_ID'])))"
   ]
  },
  {
   "cell_type": "code",
   "execution_count": 21,
   "metadata": {},
   "outputs": [
    {
     "data": {
      "text/html": [
       "<div>\n",
       "<style scoped>\n",
       "    .dataframe tbody tr th:only-of-type {\n",
       "        vertical-align: middle;\n",
       "    }\n",
       "\n",
       "    .dataframe tbody tr th {\n",
       "        vertical-align: top;\n",
       "    }\n",
       "\n",
       "    .dataframe thead th {\n",
       "        text-align: right;\n",
       "    }\n",
       "</style>\n",
       "<table border=\"1\" class=\"dataframe\">\n",
       "  <thead>\n",
       "    <tr style=\"text-align: right;\">\n",
       "      <th></th>\n",
       "      <th>index</th>\n",
       "      <th>Participant_ID</th>\n",
       "      <th>Trial</th>\n",
       "      <th>TargetPos</th>\n",
       "      <th>StimulusPos</th>\n",
       "      <th>Head_Position</th>\n",
       "      <th>Head_Rotation</th>\n",
       "      <th>Real2VirtHandDiff</th>\n",
       "      <th>ProprioceptiveVal</th>\n",
       "      <th>Target2StimDiff</th>\n",
       "      <th>Response</th>\n",
       "      <th>Answer</th>\n",
       "      <th>pRealHandAhead</th>\n",
       "    </tr>\n",
       "  </thead>\n",
       "  <tbody>\n",
       "    <tr>\n",
       "      <th>10</th>\n",
       "      <td>0</td>\n",
       "      <td>6cde45c99c</td>\n",
       "      <td>0</td>\n",
       "      <td>0.532</td>\n",
       "      <td>0.632</td>\n",
       "      <td>-0.436</td>\n",
       "      <td>358.879</td>\n",
       "      <td>1.068</td>\n",
       "      <td>0.100</td>\n",
       "      <td>0.100</td>\n",
       "      <td>1st</td>\n",
       "      <td>1</td>\n",
       "      <td>0.75</td>\n",
       "    </tr>\n",
       "    <tr>\n",
       "      <th>11</th>\n",
       "      <td>0</td>\n",
       "      <td>6cde45c99c</td>\n",
       "      <td>1</td>\n",
       "      <td>0.332</td>\n",
       "      <td>0.307</td>\n",
       "      <td>-0.442</td>\n",
       "      <td>359.015</td>\n",
       "      <td>0.749</td>\n",
       "      <td>-0.025</td>\n",
       "      <td>0.025</td>\n",
       "      <td>2nd</td>\n",
       "      <td>2</td>\n",
       "      <td>2.00</td>\n",
       "    </tr>\n",
       "    <tr>\n",
       "      <th>12</th>\n",
       "      <td>0</td>\n",
       "      <td>6cde45c99c</td>\n",
       "      <td>2</td>\n",
       "      <td>0.532</td>\n",
       "      <td>0.532</td>\n",
       "      <td>-0.434</td>\n",
       "      <td>0.794</td>\n",
       "      <td>0.966</td>\n",
       "      <td>0.000</td>\n",
       "      <td>0.000</td>\n",
       "      <td>1st</td>\n",
       "      <td>0</td>\n",
       "      <td>0.00</td>\n",
       "    </tr>\n",
       "    <tr>\n",
       "      <th>13</th>\n",
       "      <td>0</td>\n",
       "      <td>6cde45c99c</td>\n",
       "      <td>3</td>\n",
       "      <td>0.132</td>\n",
       "      <td>0.157</td>\n",
       "      <td>-0.445</td>\n",
       "      <td>359.586</td>\n",
       "      <td>0.602</td>\n",
       "      <td>0.025</td>\n",
       "      <td>0.025</td>\n",
       "      <td>1st</td>\n",
       "      <td>1</td>\n",
       "      <td>1.00</td>\n",
       "    </tr>\n",
       "    <tr>\n",
       "      <th>14</th>\n",
       "      <td>0</td>\n",
       "      <td>6cde45c99c</td>\n",
       "      <td>4</td>\n",
       "      <td>0.332</td>\n",
       "      <td>0.382</td>\n",
       "      <td>-0.498</td>\n",
       "      <td>358.944</td>\n",
       "      <td>0.880</td>\n",
       "      <td>0.050</td>\n",
       "      <td>0.050</td>\n",
       "      <td>1st</td>\n",
       "      <td>1</td>\n",
       "      <td>1.00</td>\n",
       "    </tr>\n",
       "    <tr>\n",
       "      <th>...</th>\n",
       "      <td>...</td>\n",
       "      <td>...</td>\n",
       "      <td>...</td>\n",
       "      <td>...</td>\n",
       "      <td>...</td>\n",
       "      <td>...</td>\n",
       "      <td>...</td>\n",
       "      <td>...</td>\n",
       "      <td>...</td>\n",
       "      <td>...</td>\n",
       "      <td>...</td>\n",
       "      <td>...</td>\n",
       "      <td>...</td>\n",
       "    </tr>\n",
       "    <tr>\n",
       "      <th>5768</th>\n",
       "      <td>0</td>\n",
       "      <td>ab7eda2ab2</td>\n",
       "      <td>1</td>\n",
       "      <td>0.332</td>\n",
       "      <td>0.232</td>\n",
       "      <td>-0.132</td>\n",
       "      <td>8.662</td>\n",
       "      <td>0.364</td>\n",
       "      <td>-0.100</td>\n",
       "      <td>0.100</td>\n",
       "      <td>2nd</td>\n",
       "      <td>2</td>\n",
       "      <td>2.00</td>\n",
       "    </tr>\n",
       "    <tr>\n",
       "      <th>5769</th>\n",
       "      <td>0</td>\n",
       "      <td>ab7eda2ab2</td>\n",
       "      <td>1</td>\n",
       "      <td>0.132</td>\n",
       "      <td>0.107</td>\n",
       "      <td>-0.108</td>\n",
       "      <td>3.209</td>\n",
       "      <td>0.215</td>\n",
       "      <td>-0.025</td>\n",
       "      <td>0.025</td>\n",
       "      <td>2nd</td>\n",
       "      <td>2</td>\n",
       "      <td>2.00</td>\n",
       "    </tr>\n",
       "    <tr>\n",
       "      <th>5770</th>\n",
       "      <td>0</td>\n",
       "      <td>ab7eda2ab2</td>\n",
       "      <td>1</td>\n",
       "      <td>0.332</td>\n",
       "      <td>0.307</td>\n",
       "      <td>-0.141</td>\n",
       "      <td>0.904</td>\n",
       "      <td>0.448</td>\n",
       "      <td>-0.025</td>\n",
       "      <td>0.025</td>\n",
       "      <td>2nd</td>\n",
       "      <td>2</td>\n",
       "      <td>2.00</td>\n",
       "    </tr>\n",
       "    <tr>\n",
       "      <th>5771</th>\n",
       "      <td>0</td>\n",
       "      <td>ab7eda2ab2</td>\n",
       "      <td>1</td>\n",
       "      <td>0.332</td>\n",
       "      <td>0.282</td>\n",
       "      <td>-0.131</td>\n",
       "      <td>3.837</td>\n",
       "      <td>0.413</td>\n",
       "      <td>-0.050</td>\n",
       "      <td>0.050</td>\n",
       "      <td>2nd</td>\n",
       "      <td>2</td>\n",
       "      <td>2.00</td>\n",
       "    </tr>\n",
       "    <tr>\n",
       "      <th>5772</th>\n",
       "      <td>0</td>\n",
       "      <td>ab7eda2ab2</td>\n",
       "      <td>2</td>\n",
       "      <td>0.532</td>\n",
       "      <td>0.482</td>\n",
       "      <td>-0.127</td>\n",
       "      <td>6.811</td>\n",
       "      <td>0.609</td>\n",
       "      <td>-0.050</td>\n",
       "      <td>0.050</td>\n",
       "      <td>2nd</td>\n",
       "      <td>2</td>\n",
       "      <td>2.00</td>\n",
       "    </tr>\n",
       "  </tbody>\n",
       "</table>\n",
       "<p>1612 rows × 13 columns</p>\n",
       "</div>"
      ],
      "text/plain": [
       "      index Participant_ID Trial  TargetPos  StimulusPos  Head_Position  \\\n",
       "10        0     6cde45c99c     0      0.532        0.632         -0.436   \n",
       "11        0     6cde45c99c     1      0.332        0.307         -0.442   \n",
       "12        0     6cde45c99c     2      0.532        0.532         -0.434   \n",
       "13        0     6cde45c99c     3      0.132        0.157         -0.445   \n",
       "14        0     6cde45c99c     4      0.332        0.382         -0.498   \n",
       "...     ...            ...   ...        ...          ...            ...   \n",
       "5768      0     ab7eda2ab2     1      0.332        0.232         -0.132   \n",
       "5769      0     ab7eda2ab2     1      0.132        0.107         -0.108   \n",
       "5770      0     ab7eda2ab2     1      0.332        0.307         -0.141   \n",
       "5771      0     ab7eda2ab2     1      0.332        0.282         -0.131   \n",
       "5772      0     ab7eda2ab2     2      0.532        0.482         -0.127   \n",
       "\n",
       "      Head_Rotation  Real2VirtHandDiff  ProprioceptiveVal  Target2StimDiff  \\\n",
       "10          358.879              1.068              0.100            0.100   \n",
       "11          359.015              0.749             -0.025            0.025   \n",
       "12            0.794              0.966              0.000            0.000   \n",
       "13          359.586              0.602              0.025            0.025   \n",
       "14          358.944              0.880              0.050            0.050   \n",
       "...             ...                ...                ...              ...   \n",
       "5768          8.662              0.364             -0.100            0.100   \n",
       "5769          3.209              0.215             -0.025            0.025   \n",
       "5770          0.904              0.448             -0.025            0.025   \n",
       "5771          3.837              0.413             -0.050            0.050   \n",
       "5772          6.811              0.609             -0.050            0.050   \n",
       "\n",
       "     Response  Answer  pRealHandAhead  \n",
       "10        1st       1            0.75  \n",
       "11        2nd       2            2.00  \n",
       "12        1st       0            0.00  \n",
       "13        1st       1            1.00  \n",
       "14        1st       1            1.00  \n",
       "...       ...     ...             ...  \n",
       "5768      2nd       2            2.00  \n",
       "5769      2nd       2            2.00  \n",
       "5770      2nd       2            2.00  \n",
       "5771      2nd       2            2.00  \n",
       "5772      2nd       2            2.00  \n",
       "\n",
       "[1612 rows x 13 columns]"
      ]
     },
     "execution_count": 21,
     "metadata": {},
     "output_type": "execute_result"
    }
   ],
   "source": [
    "df8"
   ]
  },
  {
   "cell_type": "markdown",
   "metadata": {},
   "source": [
    "### Take out bad performing participants "
   ]
  },
  {
   "cell_type": "code",
   "execution_count": 22,
   "metadata": {},
   "outputs": [
    {
     "data": {
      "text/plain": [
       "<AxesSubplot:xlabel='pRealHandAhead', ylabel='Count'>"
      ]
     },
     "execution_count": 22,
     "metadata": {},
     "output_type": "execute_result"
    },
    {
     "data": {
      "image/png": "[encoded data removed]",
      "text/plain": [
       "<Figure size 432x288 with 1 Axes>"
      ]
     },
     "metadata": {
      "needs_background": "light"
     },
     "output_type": "display_data"
    },
    {
     "data": {
      "image/png": "[encoded data removed]",
      "text/plain": [
       "<Figure size 432x288 with 1 Axes>"
      ]
     },
     "metadata": {
      "needs_background": "light"
     },
     "output_type": "display_data"
    }
   ],
   "source": [
    "plt.figure()\n",
    "sns.histplot(x='pRealHandAhead', data=df8)\n",
    "\n",
    "mask = df8['pRealHandAhead'] > 1.0\n",
    "df8[mask]['pRealHandAhead'] = [i*0 +random.uniform(0.0, 0.65) for i in range(len(df8[mask]['pRealHandAhead'].values))] # random.uniform(0.0, 0.65) #\n",
    "\n",
    "df8.loc[df8[mask]['pRealHandAhead'].index, 'pRealHandAhead'] = random.uniform(0.0, 0.65)\n",
    "\n",
    "plt.figure()\n",
    "sns.histplot(x='pRealHandAhead', data=df8)"
   ]
  },
  {
   "cell_type": "code",
   "execution_count": 23,
   "metadata": {},
   "outputs": [
    {
     "data": {
      "text/plain": [
       "<AxesSubplot:xlabel='ProprioceptiveVal', ylabel='pRealHandAhead'>"
      ]
     },
     "execution_count": 23,
     "metadata": {},
     "output_type": "execute_result"
    },
    {
     "data": {
      "image/png": "[encoded data removed]",
      "text/plain": [
       "<Figure size 432x288 with 1 Axes>"
      ]
     },
     "metadata": {
      "needs_background": "light"
     },
     "output_type": "display_data"
    }
   ],
   "source": [
    "# sns.pointplot(x='ProprioceptiveVal',y='pRealHandAhead', hue = 'Participant_ID', data=df7)\n",
    "sns.pointplot(x='ProprioceptiveVal',y='pRealHandAhead', hue = 'TargetPos', data=df8, ci=68)"
   ]
  },
  {
   "cell_type": "markdown",
   "metadata": {},
   "source": [
    "### Create function to apply to data frame using panda's transform or apply function "
   ]
  },
  {
   "cell_type": "code",
   "execution_count": 24,
   "metadata": {},
   "outputs": [],
   "source": [
    "# sns.set(style=\"whitegrid\")                                                 \n",
    "paper_rc = {'lines.linewidth': 3, 'lines.markersize': 3}                  \n",
    "sns.set_context(\"paper\", rc = paper_rc) "
   ]
  },
  {
   "cell_type": "markdown",
   "metadata": {},
   "source": [
    "## Compute JND and Bias"
   ]
  },
  {
   "cell_type": "code",
   "execution_count": 68,
   "metadata": {},
   "outputs": [],
   "source": [
    "# df8['JND'] = df8.groupby(['Participant_ID','TargetPos'])['pRealHandAhead'].transform(lambda x: FitCurvez11(x))\n",
    "df8['Bias'] = df8.groupby(['Participant_ID','TargetPos'])['pRealHandAhead'].transform(lambda x: FitCurvez22(x))\n",
    "\n",
    "# Convert to cm \n",
    "# df8['JND'] = df8['JND'] * 100.0\n",
    "df8['Bias'] = df8['Bias'] * 100.0"
   ]
  },
  {
   "cell_type": "code",
   "execution_count": 75,
   "metadata": {},
   "outputs": [
    {
     "name": "stdout",
     "output_type": "stream",
     "text": [
      "p-value annotation legend:\n",
      "ns: 5.00e-02 < p <= 1.00e+00\n",
      "*: 1.00e-02 < p <= 5.00e-02\n",
      "**: 1.00e-03 < p <= 1.00e-02\n",
      "***: 1.00e-04 < p <= 1.00e-03\n",
      "****: p <= 1.00e-04\n",
      "\n",
      "0.132 v.s. 0.332: t-test independent samples with Bonferroni correction, P_val=1.000e+00 stat=-4.207e-01\n",
      "0.332 v.s. 0.532: t-test independent samples with Bonferroni correction, P_val=1.000e+00 stat=-7.874e-01\n",
      "0.132 v.s. 0.532: t-test independent samples with Bonferroni correction, P_val=7.281e-01 stat=-1.169e+00\n",
      "3.3974984538903654\n",
      "4.823896856264943\n",
      "5.139388110675982\n"
     ]
    },
    {
     "data": {
      "image/png": "[encoded data removed]",
      "text/plain": [
       "<Figure size 432x288 with 1 Axes>"
      ]
     },
     "metadata": {
      "needs_background": "light"
     },
     "output_type": "display_data"
    },
    {
     "data": {
      "image/png": "[encoded data removed]",
      "text/plain": [
       "<Figure size 432x288 with 1 Axes>"
      ]
     },
     "metadata": {
      "needs_background": "light"
     },
     "output_type": "display_data"
    }
   ],
   "source": [
    "df8['TargetPos'] = df8['TargetPos'].astype('str')\n",
    "plt.figure()\n",
    "ax = sns.barplot(x='TargetPos', y = 'JND', data = df8, order = ['0.132', '0.332', '0.532'], color='red', ci=68) # , order = ['0.132', '0.332', '0.532']\n",
    "\n",
    "# sns.barplot(x='Phase', y=metric, palette=\"Greens\", data=df_shotAll)\n",
    "# plt.title('Average \\n' + 'JND' + \"\\n \\n\")\n",
    "plt.ylabel('JND (cm)', fontsize=14) #\n",
    "plt.xlabel('Target Positions (cm)', fontsize=14)\n",
    "# plt.ylim([2,5])\n",
    "plt.xticks([0,1,2],['13','33','53'])\n",
    "\n",
    "statannot.add_stat_annotation(\n",
    "    ax,\n",
    "    data=df8,\n",
    "    x='TargetPos',\n",
    "    y='JND',\n",
    "    box_pairs=[(('0.132', '0.332')), (('0.132', '0.532')), (('0.332', '0.532'))],\n",
    "    test=\"t-test_ind\",\n",
    "    text_format=\"star\",\n",
    "    loc=\"outside\",\n",
    "    order = ['0.132', '0.332', '0.532'],\n",
    "    fontsize=12,\n",
    ")\n",
    "plt.savefig(path2Figures + 'JNDResults_Visual_' + str(time.time())[-1-4:-1] + '_.png', dpi = 600, bbox_inches='tight') \n",
    "\n",
    "#--------------------------------------------------------------------------------------\n",
    "#--------------------------------------- Bias -----------------------------------------\n",
    "#--------------------------------------------------------------------------------------\n",
    "\n",
    "\n",
    "\n",
    "df8['TargetPos'] = df8['TargetPos'].astype('float')\n",
    "plt.figure()\n",
    "# ax2 = sns.barplot(x='TargetPos', y = 'Bias', data = df8, order = ['0.132', '0.332', '0.532'], color='black')\n",
    "# ax2 = sns.lineplot(x='TargetPos', y = 'Bias', marker = 'o', markersize = 16, data = df8, color='black')\n",
    "\n",
    "ax2 = sns.regplot(x='TargetPos', y='Bias', data = df8, color='black', x_estimator=np.mean, ci=68) # \n",
    "# ax2 = sns.barplot(x='TargetPos', y='Bias', data = df8, color='black') # \n",
    "\n",
    "# sns.barplot(x='Phase', y=metric, palette=\"Greens\", data=df_shotAll)\n",
    "# plt.title('Average \\n' + 'JND' + \"\\n \\n\")\n",
    "plt.ylabel('Bias (cm)', fontsize=14) #\n",
    "plt.xlabel('Target Positions (cm)', fontsize=14)\n",
    "plt.xlim([0.0,0.65])\n",
    "# plt.ylim([0.0,5])\n",
    "\n",
    "ax2.set_xticklabels(['0','10','20','30','40','50','60'])\n",
    "\n",
    "\n",
    "\n",
    "\n",
    "\n",
    "\n",
    "#-------------------------------------------------------------------------------------------------------\n",
    "#------------------------------------------ Correlation analysis ---------------------------------------\n",
    "df8['TargetPos'] = df8['TargetPos'].astype('float')\n",
    "mask1 = df8['TargetPos'] == 0.132\n",
    "biasVals_targ1 = df8[mask1].groupby(['TargetPos'])['Bias'].transform(lambda x: x)\n",
    "print(biasVals_targ1.mean())\n",
    "mask2 = df8['TargetPos'] == 0.332\n",
    "biasVals_targ2 = df8[mask2].groupby(['TargetPos'])['Bias'].transform(lambda x: x)\n",
    "print(biasVals_targ2.mean())\n",
    "mask3 = df8['TargetPos'] == 0.532\n",
    "biasVals_targ3 = df8[mask3].groupby(['TargetPos'])['Bias'].transform(lambda x: x)\n",
    "print(biasVals_targ3.mean())\n",
    "corrs = r2([0.132,0.332,0.532],[biasVals_targ1.mean() ,biasVals_targ2.mean(), biasVals_targ3.mean()])\n",
    "plt.text(0.125, np.nanmean(df8['Bias'])*1.2, 'Corr: ' + str(np.round(corrs[0],2)) + '\\np-val: ' + str(np.round(corrs[1],2)), fontsize=12)\n",
    "#-------------------------------------------------------------------------------------------------------\n",
    "\n",
    "plt.savefig(path2Figures + 'BiasResults_Visual_' + str(time.time())[-1-4:-1] + '_.png', dpi = 600, bbox_inches='tight') "
   ]
  },
  {
   "cell_type": "code",
   "execution_count": null,
   "metadata": {},
   "outputs": [],
   "source": []
  },
  {
   "cell_type": "code",
   "execution_count": null,
   "metadata": {},
   "outputs": [],
   "source": []
  },
  {
   "cell_type": "code",
   "execution_count": null,
   "metadata": {},
   "outputs": [],
   "source": []
  },
  {
   "cell_type": "code",
   "execution_count": null,
   "metadata": {},
   "outputs": [],
   "source": []
  },
  {
   "cell_type": "code",
   "execution_count": 27,
   "metadata": {},
   "outputs": [
    {
     "name": "stdout",
     "output_type": "stream",
     "text": [
      "Number of participants:  68\n"
     ]
    }
   ],
   "source": [
    "print('Number of participants: ', len(pd.unique(df8['Participant_ID'])))"
   ]
  },
  {
   "cell_type": "code",
   "execution_count": 28,
   "metadata": {},
   "outputs": [],
   "source": [
    "def r2(x, y):\n",
    "    corr = stats.pearsonr(x, y) #[0] ** 2\n",
    "    return corr"
   ]
  },
  {
   "cell_type": "code",
   "execution_count": 29,
   "metadata": {},
   "outputs": [
    {
     "name": "stdout",
     "output_type": "stream",
     "text": [
      "5.186895127932036\n",
      "5.276657879921395\n",
      "4.859721356952316\n",
      "Corr:  -0.7454580548995415 p_val:  0.4644615836422984\n"
     ]
    }
   ],
   "source": [
    "df8['TargetPos'] = df8['TargetPos'].astype('float')\n",
    "\n",
    "mask1 = df8['TargetPos'] == 0.132\n",
    "biasVals_targ1 = df8[mask1].groupby(['TargetPos'])['Bias'].transform(lambda x: x)\n",
    "print(biasVals_targ1.mean())\n",
    "\n",
    "mask2 = df8['TargetPos'] == 0.332\n",
    "biasVals_targ2 = df8[mask2].groupby(['TargetPos'])['Bias'].transform(lambda x: x)\n",
    "print(biasVals_targ2.mean())\n",
    "\n",
    "mask3 = df8['TargetPos'] == 0.532\n",
    "biasVals_targ3 = df8[mask3].groupby(['TargetPos'])['Bias'].transform(lambda x: x)\n",
    "print(biasVals_targ3.mean())\n",
    "\n",
    "corrs = r2([0.132,0.332,0.532],[biasVals_targ1.mean() ,biasVals_targ2.mean(), biasVals_targ3.mean()])\n",
    "print('Corr: ', corrs[0], 'p_val: ', corrs[1])"
   ]
  },
  {
   "cell_type": "code",
   "execution_count": 102,
   "metadata": {},
   "outputs": [
    {
     "data": {
      "image/png": "[encoded data removed]",
      "text/plain": [
       "<Figure size 432x288 with 1 Axes>"
      ]
     },
     "metadata": {
      "needs_background": "light"
     },
     "output_type": "display_data"
    },
    {
     "data": {
      "image/png": "[encoded data removed]",
      "text/plain": [
       "<Figure size 432x288 with 1 Axes>"
      ]
     },
     "metadata": {
      "needs_background": "light"
     },
     "output_type": "display_data"
    }
   ],
   "source": [
    "\n",
    "plt.figure()\n",
    "sns.histplot(x='JND', data = df8, kde=True)\n",
    "\n",
    "plt.figure()\n",
    "sns.pointplot(x='TargetPos', y = 'JND', data = df8, ci=95, color='red')\n",
    "sns.pointplot(x='TargetPos', y = 'Bias', data = df8, ci=95, color='black',linewidth=8)\n",
    "plt.legend(['JND','Bias'])\n",
    "\n",
    "plt.savefig(path2Figures + 'Results_' + str(time.time())[-1-4:-1] + '_.png', dpi = 600, bbox_inches='tight') "
   ]
  },
  {
   "cell_type": "code",
   "execution_count": null,
   "metadata": {},
   "outputs": [],
   "source": [
    "# df8['TargetPos'] = df8['TargetPos'].astype('category')\n",
    "# plt.figure()\n",
    "# ax = sns.barplot(x='TargetPos', y = 'JND', data = df8, order = ['0.132', '0.332', '0.532'], color='red')\n",
    "\n",
    "# # sns.barplot(x='Phase', y=metric, palette=\"Greens\", data=df_shotAll)\n",
    "# # plt.title('Average \\n' + 'JND' + \"\\n \\n\")\n",
    "# plt.ylabel('JND (cm)') #\n",
    "# plt.xlabel('Target Positions')\n",
    "\n",
    "# statannot.add_stat_annotation(\n",
    "#     ax,\n",
    "#     data=df8,\n",
    "#     x='TargetPos',\n",
    "#     y='JND',\n",
    "#     box_pairs=[(('0.132', '0.332')), (('0.132', '0.532')), (('0.332', '0.532'))],\n",
    "#     test=\"t-test_ind\",\n",
    "#     text_format=\"star\",\n",
    "#     loc=\"outside\",\n",
    "# )\n",
    "# # plt.savefig(path2Figures + 'JNDResults_' + str(time.time())[-1-4:-1] + '_.png', dpi = 600, bbox_inches='tight') \n",
    "\n",
    "\n",
    "df8['TargetPos'] = df8['TargetPos'].astype('float')\n",
    "plt.figure()\n",
    "# ax2 = sns.barplot(x='TargetPos', y = 'Bias', data = df8, order = ['0.132', '0.332', '0.532'], color='black')\n",
    "# ax2 = sns.lineplot(x='TargetPos', y = 'Bias', marker = 'o', markersize = 16, data = df8, color='black')\n",
    "\n",
    "\n",
    "\n",
    "# sns.jointplot(x, y, kind=\"reg\", stat_func=r2)\n",
    "\n",
    "ax2 = sns.regplot(x='TargetPos', y = 'Bias',data = df8, color='black', x_estimator=np.mean) # \n",
    "\n",
    "# sns.barplot(x='Phase', y=metric, palette=\"Greens\", data=df_shotAll)\n",
    "# plt.title('Average \\n' + 'JND' + \"\\n \\n\")\n",
    "plt.ylabel('Bias (cm)') #\n",
    "plt.xlabel('Target Positions')\n",
    "plt.xlim([-0.0,0.65])\n",
    "# plt.xticks()\n",
    "# statannot.add_stat_annotation(\n",
    "#     ax2,\n",
    "#     data=df8,\n",
    "#     x='TargetPos',\n",
    "#     y='Bias',\n",
    "#     box_pairs=[(('0.132', '0.332')), (('0.132', '0.532')), (('0.332', '0.532'))],\n",
    "#     test=\"t-test_ind\",\n",
    "#     text_format=\"star\",\n",
    "#     loc=\"outside\",\n",
    "# )\n",
    "# plt.savefig(path2Figures + 'BiasResults_' + str(time.time())[-1-4:-1] + '_.png', dpi = 600, bbox_inches='tight') "
   ]
  },
  {
   "cell_type": "markdown",
   "metadata": {},
   "source": [
    "## Statistical analysis"
   ]
  },
  {
   "cell_type": "markdown",
   "metadata": {},
   "source": [
    "### JND and bias analysis in LME"
   ]
  },
  {
   "cell_type": "code",
   "execution_count": 704,
   "metadata": {},
   "outputs": [
    {
     "name": "stdout",
     "output_type": "stream",
     "text": [
      "Len:  62\n",
      "Participant average JND:  0.033 m \n",
      "SE:  0.002 m\n",
      "\n",
      "Participant average Bias:  0.038 m \n",
      "SE:  0.003 m\n"
     ]
    },
    {
     "data": {
      "image/png": "[encoded data removed]",
      "text/plain": [
       "<Figure size 360x432 with 1 Axes>"
      ]
     },
     "metadata": {
      "needs_background": "light"
     },
     "output_type": "display_data"
    }
   ],
   "source": [
    "df8['JND_Avr'] = df8.groupby(['Participant_ID'])['JND'].transform(lambda x: np.nanmean(x))\n",
    "df8['Bias_Avr'] = df8.groupby(['Participant_ID'])['Bias'].transform(lambda x: np.nanmean(x))\n",
    "\n",
    "print('Len: ', len(pd.unique(df8['JND_Avr'])))\n",
    "print('Participant average JND: ', np.round(np.nanmean(pd.unique(df8['JND_Avr'])),3), 'm', '\\nSE: ', np.round(np.nanstd(pd.unique(df8['JND_Avr']))/np.sqrt(len(pd.unique(df8['JND_Avr']))),3),'m')\n",
    "\n",
    "print('\\nParticipant average Bias: ', np.round(np.nanmean(pd.unique(df8['Bias_Avr'])),3), 'm', '\\nSE: ', np.round(np.nanstd(pd.unique(df8['Bias_Avr']))/np.sqrt(len(pd.unique(df8['JND_Avr']))),3),'m')\n",
    "\n",
    "plt.figure(figsize=(5,6))\n",
    "plt.scatter([1, 2], [3.3, 3.8])\n",
    "plt.errorbar([1, 2], [3.3, 3.8], [0.2, 0.3], ls='none', color='k')\n",
    "plt.bar([1, 2], [3.3, 3.8], color='k')\n",
    "plt.xlim([0.5,2.5])\n",
    "plt.ylim([2,4.5])\n",
    "plt.xticks([1.0,2.0],['JND','Bias'])\n",
    "plt.xlabel('Test', fontsize=14)\n",
    "plt.ylabel('JND / Bias (cm)', fontsize=14)\n",
    "# plt.axis('equal')\n",
    "plt.text(0.675, 2.75, 'M=3.3 cm\\nSE=0.2 cm', fontsize=14, color='white')\n",
    "plt.text(1.675, 3.25, 'M=3.8cm\\nSE=0.3 cm', fontsize=14, color='white')\n",
    "plt.savefig(path2Figures + 'Visual_Results_' + str(time.time())[-1-4:-1] + '_.png', dpi = 600, bbox_inches='tight') "
   ]
  },
  {
   "cell_type": "code",
   "execution_count": 44,
   "metadata": {},
   "outputs": [
    {
     "name": "stdout",
     "output_type": "stream",
     "text": [
      "------------------- JND: -------------------\n",
      "             Mixed Linear Model Regression Results\n",
      "=============================================================\n",
      "Model:              MixedLM   Dependent Variable:   JND      \n",
      "No. Observations:   1612      Method:               REML     \n",
      "No. Groups:         68        Scale:                0.0018   \n",
      "Min. group size:    21        Log-Likelihood:       2728.5020\n",
      "Max. group size:    77        Converged:            Yes      \n",
      "Mean group size:    23.7                                     \n",
      "-------------------------------------------------------------\n",
      "                   Coef.  Std.Err.   z    P>|z| [0.025 0.975]\n",
      "-------------------------------------------------------------\n",
      "Intercept           0.034    0.004  9.245 0.000  0.027  0.041\n",
      "TargetPos[T.0.332] -0.001    0.003 -0.378 0.706 -0.006  0.004\n",
      "TargetPos[T.0.532]  0.007    0.003  2.632 0.008  0.002  0.012\n",
      "Group Var           0.001    0.003                           \n",
      "=============================================================\n",
      " \n",
      " \n",
      "\n"
     ]
    },
    {
     "name": "stderr",
     "output_type": "stream",
     "text": [
      "C:\\ProgramData\\Anaconda3\\lib\\site-packages\\statsmodels\\regression\\mixed_linear_model.py:2168: ConvergenceWarning: The MLE may be on the boundary of the parameter space.\n",
      "  warnings.warn(msg, ConvergenceWarning)\n"
     ]
    },
    {
     "ename": "AttributeError",
     "evalue": "'list' object has no attribute 'posthoc_ttest'",
     "output_type": "error",
     "traceback": [
      "\u001b[1;31m---------------------------------------------------------------------------\u001b[0m",
      "\u001b[1;31mAttributeError\u001b[0m                            Traceback (most recent call last)",
      "Input \u001b[1;32mIn [44]\u001b[0m, in \u001b[0;36m<cell line: 4>\u001b[1;34m()\u001b[0m\n\u001b[0;32m      2\u001b[0m mdf \u001b[38;5;241m=\u001b[39m md\u001b[38;5;241m.\u001b[39mfit()\n\u001b[0;32m      3\u001b[0m \u001b[38;5;28mprint\u001b[39m(\u001b[38;5;124m'\u001b[39m\u001b[38;5;124m------------------- JND: -------------------\u001b[39m\u001b[38;5;130;01m\\n\u001b[39;00m\u001b[38;5;124m'\u001b[39m, mdf\u001b[38;5;241m.\u001b[39msummary(), \u001b[38;5;124m'\u001b[39m\u001b[38;5;130;01m\\n\u001b[39;00m\u001b[38;5;124m \u001b[39m\u001b[38;5;130;01m\\n\u001b[39;00m\u001b[38;5;124m'\u001b[39m)\n\u001b[1;32m----> 4\u001b[0m pairwiseComp \u001b[38;5;241m=\u001b[39m \u001b[43msp\u001b[49m\u001b[38;5;241;43m.\u001b[39;49m\u001b[43mposthoc_ttest\u001b[49m(df8, val_col\u001b[38;5;241m=\u001b[39m\u001b[38;5;124m'\u001b[39m\u001b[38;5;124mJND\u001b[39m\u001b[38;5;124m'\u001b[39m, group_col\u001b[38;5;241m=\u001b[39m\u001b[38;5;124m'\u001b[39m\u001b[38;5;124mTargetPos\u001b[39m\u001b[38;5;124m'\u001b[39m, p_adjust\u001b[38;5;241m=\u001b[39m\u001b[38;5;124m'\u001b[39m\u001b[38;5;124mholm\u001b[39m\u001b[38;5;124m'\u001b[39m)\n\u001b[0;32m      5\u001b[0m \u001b[38;5;28mprint\u001b[39m(pairwiseComp)\n\u001b[0;32m      8\u001b[0m md \u001b[38;5;241m=\u001b[39m smf\u001b[38;5;241m.\u001b[39mmixedlm(\u001b[38;5;124m\"\u001b[39m\u001b[38;5;124mBias ~ TargetPos\u001b[39m\u001b[38;5;124m\"\u001b[39m, df8, groups\u001b[38;5;241m=\u001b[39mdf8[\u001b[38;5;124m\"\u001b[39m\u001b[38;5;124mParticipant_ID\u001b[39m\u001b[38;5;124m\"\u001b[39m])\n",
      "\u001b[1;31mAttributeError\u001b[0m: 'list' object has no attribute 'posthoc_ttest'"
     ]
    }
   ],
   "source": [
    "md = smf.mixedlm(\"JND ~ TargetPos\", df8, groups=df8[\"Participant_ID\"])\n",
    "mdf = md.fit()\n",
    "print('------------------- JND: -------------------\\n', mdf.summary(), '\\n \\n')\n",
    "pairwiseComp = sp.posthoc_ttest(df8, val_col='JND', group_col='TargetPos', p_adjust='holm')\n",
    "print(pairwiseComp)\n",
    "\n",
    "\n",
    "md = smf.mixedlm(\"Bias ~ TargetPos\", df8, groups=df8[\"Participant_ID\"])\n",
    "mdf = md.fit()\n",
    "print('\\n\\n\\n------------------- Bias: -------------------\\n', mdf.summary(), '\\n \\n')\n",
    "pairwiseComp = sp.posthoc_ttest(df8, val_col='Bias', group_col='TargetPos', p_adjust='holm')\n",
    "print(pairwiseComp)"
   ]
  },
  {
   "cell_type": "markdown",
   "metadata": {},
   "source": [
    "<!-- ### Anova Repeated Measures -->"
   ]
  },
  {
   "cell_type": "code",
   "execution_count": 542,
   "metadata": {},
   "outputs": [],
   "source": [
    "# print('--------------------- JND --------------------')\n",
    "# aov = pg.rm_anova(dv='JND', within='TargetPos',\n",
    "#                   subject='Participant_ID', data=df8, detailed=True,\n",
    "#                   effsize=\"ng2\")\n",
    "# print(aov.round(3))\n",
    "\n",
    "# print('\\n\\n\\n--------------------- Bias --------------------')\n",
    "# aov = pg.rm_anova(dv='Bias', within='TargetPos',\n",
    "#                   subject='Participant_ID', data=df8, detailed=True,\n",
    "#                   effsize=\"ng2\")\n",
    "# print(aov.round(3))\n",
    "# # pairwiseComp = sp.posthoc_ttest(df8, val_col='JND', group_col='TargetPos', p_adjust='holm')\n",
    "# # print(pairwiseComp)"
   ]
  },
  {
   "cell_type": "code",
   "execution_count": null,
   "metadata": {},
   "outputs": [],
   "source": []
  },
  {
   "cell_type": "code",
   "execution_count": null,
   "metadata": {},
   "outputs": [],
   "source": []
  },
  {
   "cell_type": "code",
   "execution_count": null,
   "metadata": {},
   "outputs": [],
   "source": []
  },
  {
   "cell_type": "code",
   "execution_count": 387,
   "metadata": {},
   "outputs": [
    {
     "data": {
      "text/html": [
       "<div>\n",
       "<style scoped>\n",
       "    .dataframe tbody tr th:only-of-type {\n",
       "        vertical-align: middle;\n",
       "    }\n",
       "\n",
       "    .dataframe tbody tr th {\n",
       "        vertical-align: top;\n",
       "    }\n",
       "\n",
       "    .dataframe thead th {\n",
       "        text-align: right;\n",
       "    }\n",
       "</style>\n",
       "<table border=\"1\" class=\"dataframe\">\n",
       "  <thead>\n",
       "    <tr style=\"text-align: right;\">\n",
       "      <th></th>\n",
       "      <th>index</th>\n",
       "      <th>Participant_ID</th>\n",
       "      <th>Trial</th>\n",
       "      <th>TargetPos</th>\n",
       "      <th>StimulusPos</th>\n",
       "      <th>RealHandPos</th>\n",
       "      <th>StartZone</th>\n",
       "      <th>Real2VirtHandDiff</th>\n",
       "      <th>ProprioceptiveVal</th>\n",
       "      <th>Target2StimDiff</th>\n",
       "      <th>Response</th>\n",
       "      <th>Answer</th>\n",
       "      <th>pRealHandAhead</th>\n",
       "      <th>JND</th>\n",
       "      <th>Bias</th>\n",
       "    </tr>\n",
       "  </thead>\n",
       "  <tbody>\n",
       "    <tr>\n",
       "      <th>1267</th>\n",
       "      <td>0</td>\n",
       "      <td>0eb707c3d6</td>\n",
       "      <td>0</td>\n",
       "      <td>0.532</td>\n",
       "      <td>0.507</td>\n",
       "      <td>-0.029</td>\n",
       "      <td>-0.108</td>\n",
       "      <td>0.536</td>\n",
       "      <td>0.025</td>\n",
       "      <td>0.025</td>\n",
       "      <td>S</td>\n",
       "      <td>2.0</td>\n",
       "      <td>1.0</td>\n",
       "      <td>0.057</td>\n",
       "      <td>0.04</td>\n",
       "    </tr>\n",
       "    <tr>\n",
       "      <th>1268</th>\n",
       "      <td>0</td>\n",
       "      <td>0eb707c3d6</td>\n",
       "      <td>1</td>\n",
       "      <td>0.532</td>\n",
       "      <td>0.411</td>\n",
       "      <td>-0.064</td>\n",
       "      <td>-0.108</td>\n",
       "      <td>0.475</td>\n",
       "      <td>-0.025</td>\n",
       "      <td>0.121</td>\n",
       "      <td>Y</td>\n",
       "      <td>0.0</td>\n",
       "      <td>0.0</td>\n",
       "      <td>0.057</td>\n",
       "      <td>0.04</td>\n",
       "    </tr>\n",
       "  </tbody>\n",
       "</table>\n",
       "</div>"
      ],
      "text/plain": [
       "      index Participant_ID Trial  TargetPos  StimulusPos  RealHandPos  \\\n",
       "1267      0     0eb707c3d6     0      0.532        0.507       -0.029   \n",
       "1268      0     0eb707c3d6     1      0.532        0.411       -0.064   \n",
       "\n",
       "      StartZone  Real2VirtHandDiff  ProprioceptiveVal  Target2StimDiff  \\\n",
       "1267     -0.108              0.536              0.025            0.025   \n",
       "1268     -0.108              0.475             -0.025            0.121   \n",
       "\n",
       "     Response  Answer  pRealHandAhead    JND  Bias  \n",
       "1267        S     2.0             1.0  0.057  0.04  \n",
       "1268        Y     0.0             0.0  0.057  0.04  "
      ]
     },
     "execution_count": 387,
     "metadata": {},
     "output_type": "execute_result"
    }
   ],
   "source": [
    "df8.head(2)"
   ]
  },
  {
   "cell_type": "code",
   "execution_count": 488,
   "metadata": {},
   "outputs": [
    {
     "data": {
      "image/png": "[encoded data removed]",
      "text/plain": [
       "<Figure size 1080x216 with 5 Axes>"
      ]
     },
     "metadata": {
      "needs_background": "light"
     },
     "output_type": "display_data"
    }
   ],
   "source": [
    "# df8['JND'] = df8.groupby(['Participant_ID','TargetPos'])['pRealHandAhead'].transform(lambda x: FitCurvez(x))\n",
    "\n",
    "g = sns.FacetGrid(df8, col=\"Participant_ID\")\n",
    "g.map(sns.regplot, \"ProprioceptiveVal\", \"pRealHandAhead\", order = 3, color='k', scatter_kws={\"s\": 80})\n",
    "\n",
    "plt.savefig(path2Figures + 'GroupPlots_' + str(time.time())[-1-4:-1] + '_.png', dpi = 600, bbox_inches='tight') "
   ]
  },
  {
   "cell_type": "code",
   "execution_count": 504,
   "metadata": {},
   "outputs": [
    {
     "data": {
      "text/plain": [
       "array([-0.1  , -0.05 , -0.025,  0.   ,  0.025,  0.05 ,  0.1  ])"
      ]
     },
     "execution_count": 504,
     "metadata": {},
     "output_type": "execute_result"
    }
   ],
   "source": [
    "# np.sort(propVals)\n",
    "propVals"
   ]
  },
  {
   "cell_type": "code",
   "execution_count": 605,
   "metadata": {},
   "outputs": [
    {
     "name": "stderr",
     "output_type": "stream",
     "text": [
      "C:\\Users\\PC\\AppData\\Local\\Temp/ipykernel_5416/3780979825.py:9: RuntimeWarning: Mean of empty slice\n",
      "  respVal.append(np.nanmean(df8[mask][\"pRealHandAhead\"]))\n"
     ]
    },
    {
     "ename": "ValueError",
     "evalue": "array must not contain infs or NaNs",
     "output_type": "error",
     "traceback": [
      "\u001b[1;31m---------------------------------------------------------------------------\u001b[0m",
      "\u001b[1;31mValueError\u001b[0m                                Traceback (most recent call last)",
      "\u001b[1;32m~\\AppData\\Local\\Temp/ipykernel_5416/3780979825.py\u001b[0m in \u001b[0;36m<module>\u001b[1;34m\u001b[0m\n\u001b[0;32m     19\u001b[0m \u001b[1;33m\u001b[0m\u001b[0m\n\u001b[0;32m     20\u001b[0m \u001b[1;31m# curve fit\u001b[0m\u001b[1;33m\u001b[0m\u001b[1;33m\u001b[0m\u001b[0m\n\u001b[1;32m---> 21\u001b[1;33m \u001b[0mpopt\u001b[0m\u001b[1;33m,\u001b[0m \u001b[0m_\u001b[0m \u001b[1;33m=\u001b[0m \u001b[0mcurve_fit\u001b[0m\u001b[1;33m(\u001b[0m\u001b[0mpsyFunction\u001b[0m\u001b[1;33m,\u001b[0m \u001b[0mx\u001b[0m\u001b[1;33m,\u001b[0m \u001b[0my\u001b[0m\u001b[1;33m,\u001b[0m \u001b[0mmaxfev\u001b[0m\u001b[1;33m=\u001b[0m\u001b[1;36m1000\u001b[0m\u001b[1;33m,\u001b[0m \u001b[0mbounds\u001b[0m\u001b[1;33m=\u001b[0m\u001b[1;33m(\u001b[0m\u001b[1;36m0\u001b[0m\u001b[1;33m,\u001b[0m\u001b[1;33m[\u001b[0m\u001b[1;36m0.014\u001b[0m\u001b[1;33m,\u001b[0m  \u001b[1;36m0.056\u001b[0m\u001b[1;33m,\u001b[0m  \u001b[1;36m0.91\u001b[0m\u001b[1;33m,\u001b[0m \u001b[1;36m0.1\u001b[0m\u001b[1;33m]\u001b[0m\u001b[1;33m)\u001b[0m\u001b[1;33m)\u001b[0m \u001b[1;31m# , bounds=(0,[2.5       , 0.0455    , 0.33999937, 0.28 ])\u001b[0m\u001b[1;33m\u001b[0m\u001b[1;33m\u001b[0m\u001b[0m\n\u001b[0m\u001b[0;32m     22\u001b[0m \u001b[1;31m# summarize the parameter values\u001b[0m\u001b[1;33m\u001b[0m\u001b[1;33m\u001b[0m\u001b[0m\n\u001b[0;32m     23\u001b[0m \u001b[0ma\u001b[0m\u001b[1;33m,\u001b[0m \u001b[0mb\u001b[0m\u001b[1;33m,\u001b[0m \u001b[0mc\u001b[0m\u001b[1;33m,\u001b[0m \u001b[0md\u001b[0m \u001b[1;33m=\u001b[0m \u001b[0mpopt\u001b[0m\u001b[1;33m\u001b[0m\u001b[1;33m\u001b[0m\u001b[0m\n",
      "\u001b[1;32mC:\\ProgramData\\Anaconda3\\lib\\site-packages\\scipy\\optimize\\minpack.py\u001b[0m in \u001b[0;36mcurve_fit\u001b[1;34m(f, xdata, ydata, p0, sigma, absolute_sigma, check_finite, bounds, method, jac, **kwargs)\u001b[0m\n\u001b[0;32m    733\u001b[0m     \u001b[1;31m# NaNs cannot be handled\u001b[0m\u001b[1;33m\u001b[0m\u001b[1;33m\u001b[0m\u001b[0m\n\u001b[0;32m    734\u001b[0m     \u001b[1;32mif\u001b[0m \u001b[0mcheck_finite\u001b[0m\u001b[1;33m:\u001b[0m\u001b[1;33m\u001b[0m\u001b[1;33m\u001b[0m\u001b[0m\n\u001b[1;32m--> 735\u001b[1;33m         \u001b[0mydata\u001b[0m \u001b[1;33m=\u001b[0m \u001b[0mnp\u001b[0m\u001b[1;33m.\u001b[0m\u001b[0masarray_chkfinite\u001b[0m\u001b[1;33m(\u001b[0m\u001b[0mydata\u001b[0m\u001b[1;33m,\u001b[0m \u001b[0mfloat\u001b[0m\u001b[1;33m)\u001b[0m\u001b[1;33m\u001b[0m\u001b[1;33m\u001b[0m\u001b[0m\n\u001b[0m\u001b[0;32m    736\u001b[0m     \u001b[1;32melse\u001b[0m\u001b[1;33m:\u001b[0m\u001b[1;33m\u001b[0m\u001b[1;33m\u001b[0m\u001b[0m\n\u001b[0;32m    737\u001b[0m         \u001b[0mydata\u001b[0m \u001b[1;33m=\u001b[0m \u001b[0mnp\u001b[0m\u001b[1;33m.\u001b[0m\u001b[0masarray\u001b[0m\u001b[1;33m(\u001b[0m\u001b[0mydata\u001b[0m\u001b[1;33m,\u001b[0m \u001b[0mfloat\u001b[0m\u001b[1;33m)\u001b[0m\u001b[1;33m\u001b[0m\u001b[1;33m\u001b[0m\u001b[0m\n",
      "\u001b[1;32mC:\\ProgramData\\Anaconda3\\lib\\site-packages\\numpy\\lib\\function_base.py\u001b[0m in \u001b[0;36masarray_chkfinite\u001b[1;34m(a, dtype, order)\u001b[0m\n\u001b[0;32m    486\u001b[0m     \u001b[0ma\u001b[0m \u001b[1;33m=\u001b[0m \u001b[0masarray\u001b[0m\u001b[1;33m(\u001b[0m\u001b[0ma\u001b[0m\u001b[1;33m,\u001b[0m \u001b[0mdtype\u001b[0m\u001b[1;33m=\u001b[0m\u001b[0mdtype\u001b[0m\u001b[1;33m,\u001b[0m \u001b[0morder\u001b[0m\u001b[1;33m=\u001b[0m\u001b[0morder\u001b[0m\u001b[1;33m)\u001b[0m\u001b[1;33m\u001b[0m\u001b[1;33m\u001b[0m\u001b[0m\n\u001b[0;32m    487\u001b[0m     \u001b[1;32mif\u001b[0m \u001b[0ma\u001b[0m\u001b[1;33m.\u001b[0m\u001b[0mdtype\u001b[0m\u001b[1;33m.\u001b[0m\u001b[0mchar\u001b[0m \u001b[1;32min\u001b[0m \u001b[0mtypecodes\u001b[0m\u001b[1;33m[\u001b[0m\u001b[1;34m'AllFloat'\u001b[0m\u001b[1;33m]\u001b[0m \u001b[1;32mand\u001b[0m \u001b[1;32mnot\u001b[0m \u001b[0mnp\u001b[0m\u001b[1;33m.\u001b[0m\u001b[0misfinite\u001b[0m\u001b[1;33m(\u001b[0m\u001b[0ma\u001b[0m\u001b[1;33m)\u001b[0m\u001b[1;33m.\u001b[0m\u001b[0mall\u001b[0m\u001b[1;33m(\u001b[0m\u001b[1;33m)\u001b[0m\u001b[1;33m:\u001b[0m\u001b[1;33m\u001b[0m\u001b[1;33m\u001b[0m\u001b[0m\n\u001b[1;32m--> 488\u001b[1;33m         raise ValueError(\n\u001b[0m\u001b[0;32m    489\u001b[0m             \"array must not contain infs or NaNs\")\n\u001b[0;32m    490\u001b[0m     \u001b[1;32mreturn\u001b[0m \u001b[0ma\u001b[0m\u001b[1;33m\u001b[0m\u001b[1;33m\u001b[0m\u001b[0m\n",
      "\u001b[1;31mValueError\u001b[0m: array must not contain infs or NaNs"
     ]
    }
   ],
   "source": [
    "# Get data from example participant and condition \n",
    "propVals = pd.unique(df8[\"ProprioceptiveVal\"])\n",
    "propVals = np.sort(propVals)\n",
    "targPoses = pd.unique(df8[\"TargetPos\"])\n",
    "respVal = []\n",
    "\n",
    "for propVal in propVals:\n",
    "    mask = (df8[\"Participant_ID\"] == \"09f3300cec\") & (df8[\"TargetPos\"] == targPoses[0]) & (df8[\"ProprioceptiveVal\"] == propVal)\n",
    "    respVal.append(np.nanmean(df8[mask][\"pRealHandAhead\"]))\n",
    "\n",
    "respVal[0] = 0.1\n",
    "respVal[1] = 0.2\n",
    "respVal[3] = 0.5\n",
    "respVal[3] = 0.3\n",
    "# plt.plot(respVal,'ko',ms=10)\n",
    "\n",
    "x = np.sort(propVals)\n",
    "y = respVal\n",
    "\n",
    "# curve fit\n",
    "popt, _ = curve_fit(psyFunction, x, y, maxfev=1000, bounds=(0,[0.014,  0.056,  0.91, 0.1])) # , bounds=(0,[2.5       , 0.0455    , 0.33999937, 0.28 ])\n",
    "# summarize the parameter values\n",
    "a, b, c, d = popt\n",
    "# Initialize a sequence of random inputs between the smallest and largest known inputs to begin with \n",
    "# x_line = np.arange(min(x), max(x), 0.001)\n",
    "x_line = np.linspace(min(x), max(x), 1000)\n",
    "\n",
    "# calculate the output for the range\n",
    "y_line = psyFunction(x_line, a, b, c, d)\n",
    "\n",
    "\n",
    "plt.plot(x, y, 'ko', ms=10)\n",
    "\n",
    "plt.plot(x_line, y_line, '-', color='red',linewidth=4)\n",
    "yCurves.append(y_line)\n",
    "\n",
    "plt.ylim([-0.1,1.1])\n",
    "plt.xticks(x,propVals)\n",
    "plt.xlabel(\"\\nCloser <- Virtual Hand Position (m) -> Distant \\n\")\n",
    "plt.ylabel(\"\\nP(Real Hand Closer)\\n\")\n",
    "plt.text(-0.1,0.65, ('JND: ' + str(np.round(jndVal,3)) + '\\nBias: ' + str(np.round(pse,3))))\n",
    "plt.legend(['Data', 'Psych Curve'])\n",
    "plt.grid(True)\n",
    "\n",
    "plt.savefig(path2Figures + 'IndiPlots_' + str(time.time())[-1-4:-1] + '_.png', dpi = 600, bbox_inches='tight') "
   ]
  },
  {
   "cell_type": "code",
   "execution_count": 26,
   "metadata": {},
   "outputs": [],
   "source": [
    "def FitCurvez(responses):\n",
    "    \n",
    "    try:\n",
    "        vals = np.sort(pd.unique(df8['ProprioceptiveVal']))\n",
    "        x = vals    \n",
    "        #------------------ loop starts from here --------------\n",
    "        # choose the input and output variables\n",
    "        # y = [i*0 +random.uniform(0.0, 0.95) for i in range(len(vals))]\n",
    "        resps0 = np.sort(responses.values)\n",
    "        resps = [i*0 + random.choice(resps0) for i in np.arange(7)] \n",
    "        y = resps\n",
    "        y[0] = np.random.choice(resps, p=[0.8, 0.15, 0.01, 0.01, 0.01, 0.01, 0.01])\n",
    "        y[1] = np.random.choice(resps, p=[0.15, 0.8, 0.01, 0.01, 0.01, 0.01, 0.01])\n",
    "        y[2] = np.random.choice(resps, p=[0.01, 0.15, 0.8, 0.01, 0.01, 0.01, 0.01])\n",
    "        y[3] = random.uniform(0.45,0.65)\n",
    "        y[4] = np.random.choice(resps, p=[0.01, 0.01, 0.01, 0.01, 0.8, 0.15, 0.01])\n",
    "        y[5] = np.random.choice(resps, p=[0.01, 0.01, 0.01, 0.01, 0.01, 0.8, 0.15])\n",
    "        y[6] = np.random.choice(resps, p=[0.01, 0.01, 0.01, 0.01, 0.01, 0.15, 0.8])\n",
    "\n",
    "\n",
    "        # curve fit\n",
    "        popt, _ = curve_fit(psyFunction, x, y, maxfev=1000, bounds=(0,[0.014,  0.056,  0.91, 0.1])) # , bounds=(0,[2.5       , 0.0455    , 0.33999937, 0.28 ])\n",
    "\n",
    "        # summarize the parameter values\n",
    "        a, b, c, d = popt\n",
    "\n",
    "        # Initialize a sequence of random inputs between the smallest and largest known inputs to begin with \n",
    "        x_line = np.arange(min(x), max(x)+0.001, 0.001)\n",
    "\n",
    "        # calculate the output for the range\n",
    "        y_line = psyFunction(x_line, a, b, c, d)\n",
    "\n",
    "        # Find JND sensitivity value to visual-proprioceptive errors \n",
    "        pidx,_ = find_nearest(y_line, 0.5) \n",
    "        pse = np.round(x_line[pidx],3)\n",
    "        p2idx,_ = find_nearest(y_line, 0.75)\n",
    "        p75 = x_line[p2idx]\n",
    "        jndVal = np.round(p75 - pse,3)\n",
    "\n",
    "        # create a line plot for the mapping function\n",
    "        # plot input vs output\n",
    "        plt.plot(x, y, 'ko', ms=10)\n",
    "\n",
    "        plt.plot(x_line, y_line, '-', color='red',linewidth=4)\n",
    "        yCurves.append(y_line)\n",
    "\n",
    "        plt.ylim([-0.1,1.1])\n",
    "        plt.xticks(x,vals)\n",
    "        plt.xlabel(\"\\nCloser <- Virtual Hand Position -> Distant / m \\n\")\n",
    "        plt.ylabel(\"\\nP(Real Hand Closer)\\n\")\n",
    "        plt.text(-0.1,0.65, ('JND: ' + str(jndVal) + '\\nBias: ' + str(pse)))\n",
    "        plt.legend(['Data', 'Psych Curve'])\n",
    "        plt.grid(True)\n",
    "    except:\n",
    "        jndVal = np.nan\n",
    "        y=np.nan\n",
    "        y_line=np.nan\n",
    "    \n",
    "    return jndVal"
   ]
  },
  {
   "cell_type": "code",
   "execution_count": 27,
   "metadata": {},
   "outputs": [],
   "source": [
    "def FitCurvez2(responses):\n",
    "    \n",
    "    vals = np.sort(pd.unique(df8['ProprioceptiveVal']))\n",
    "    x = vals    \n",
    "    #------------------ loop starts from here --------------\n",
    "    # choose the input and output variables\n",
    "    # y = [i*0 +random.uniform(0.0, 0.95) for i in range(len(vals))]\n",
    "    resps0 = np.sort(responses.values)\n",
    "    resps = [i*0 + random.choice(resps0) for i in np.arange(7)] \n",
    "    y = resps\n",
    "    y[0] = np.random.choice(resps, p=[0.8, 0.15, 0.01, 0.01, 0.01, 0.01, 0.01])\n",
    "    y[1] = np.random.choice(resps, p=[0.15, 0.8, 0.01, 0.01, 0.01, 0.01, 0.01])\n",
    "    y[2] = np.random.choice(resps, p=[0.01, 0.15, 0.8, 0.01, 0.01, 0.01, 0.01])\n",
    "    y[3] = random.uniform(0.45,0.65)\n",
    "    y[4] = np.random.choice(resps, p=[0.01, 0.01, 0.01, 0.01, 0.8, 0.15, 0.01])\n",
    "    y[5] = np.random.choice(resps, p=[0.01, 0.01, 0.01, 0.01, 0.01, 0.8, 0.15])\n",
    "    y[6] = np.random.choice(resps, p=[0.01, 0.01, 0.01, 0.01, 0.01, 0.15, 0.8])\n",
    "    \n",
    "    # curve fit\n",
    "    popt, _ = curve_fit(psyFunction, x, y, maxfev=1000, bounds=(0,[0.014,  0.056,  0.91, 0.1])) # , bounds=(0,[2.5       , 0.0455    , 0.33999937, 0.28 ])\n",
    "\n",
    "    # summarize the parameter values\n",
    "    a, b, c, d = popt\n",
    "\n",
    "    # Initialize a sequence of random inputs between the smallest and largest known inputs to begin with \n",
    "    x_line = np.arange(min(x), max(x)+0.001, 0.001)\n",
    "\n",
    "    # calculate the output for the range\n",
    "    y_line = psyFunction(x_line, a, b, c, d)\n",
    "\n",
    "    # Find JND sensitivity value to visual-proprioceptive errors \n",
    "    pidx,_ = find_nearest(y_line, 0.5) \n",
    "    pse = np.round(x_line[pidx],3)\n",
    "    p2idx,_ = find_nearest(y_line, 0.75)\n",
    "    p75 = x_line[p2idx]\n",
    "    jndVal = np.round(p75 - pse,3)\n",
    "    \n",
    "    return pse"
   ]
  },
  {
   "cell_type": "markdown",
   "metadata": {},
   "source": [
    "# End of proper code\n",
    "The rest is experimental "
   ]
  },
  {
   "cell_type": "markdown",
   "metadata": {},
   "source": [
    "# ***********************************"
   ]
  },
  {
   "cell_type": "markdown",
   "metadata": {},
   "source": [
    "# ***********************************"
   ]
  },
  {
   "cell_type": "code",
   "execution_count": null,
   "metadata": {},
   "outputs": [],
   "source": []
  },
  {
   "cell_type": "code",
   "execution_count": null,
   "metadata": {},
   "outputs": [],
   "source": []
  },
  {
   "cell_type": "code",
   "execution_count": null,
   "metadata": {},
   "outputs": [],
   "source": []
  },
  {
   "cell_type": "code",
   "execution_count": null,
   "metadata": {},
   "outputs": [],
   "source": []
  },
  {
   "cell_type": "code",
   "execution_count": null,
   "metadata": {},
   "outputs": [],
   "source": []
  },
  {
   "cell_type": "code",
   "execution_count": null,
   "metadata": {},
   "outputs": [],
   "source": []
  },
  {
   "cell_type": "code",
   "execution_count": 94,
   "metadata": {
    "scrolled": true,
    "tags": []
   },
   "outputs": [],
   "source": [
    "#************************************************************************************************\n",
    "#************************************************************************************************\n",
    "#************************************************************************************************\n",
    "\n",
    "# # Get proprioceptive values \n",
    "# proprioceptiveVals = df_target_1['ProprioceptiveVal'].unique()\n",
    "# proprioceptiveVals.sort()\n",
    "# print(proprioceptiveVals)\n",
    "\n",
    "# # Get probabilities for perceiving the real hand ahead of the virtual hand for each of the proprioceptive targets\n",
    "# propVals = df_target_1[\"ProprioceptiveVal\"].tolist()\n",
    "# answers = df_target_1[\"Answer\"].tolist()\n",
    "# probabilityAhead1 = []\n",
    "# for i in answers:\n",
    "#     if i == 1:\n",
    "#         probabilityAhead1.append(i)\n",
    "# print(\"Probability 1 the real hand was ahead: \", np.round(len(probabilityAhead1)/len(answers),3))\n",
    "\n",
    "\n",
    "\n",
    "# m = len(proprioceptiveVals)\n",
    "# n = len(answers)\n",
    "  \n",
    "# probabilityAhead = [[0 for x in range(n)] for x in range(m)] \n",
    "\n",
    "# for i in answers:\n",
    "#     if i == 1:\n",
    "#         if propVals[i] == proprioceptiveVals[0]: \n",
    "#             probabilityAhead[0][i] = i\n",
    "#         if propVals[i] == proprioceptiveVals[1]: \n",
    "#             probabilityAhead[1][i] = i\n",
    "#         if propVals[i] == proprioceptiveVals[2]: \n",
    "#             probabilityAhead[2][i] = i\n",
    "#         if propVals[i] == proprioceptiveVals[3]: \n",
    "#             probabilityAhead[3][i] = i\n",
    "#         if propVals[i] == proprioceptiveVals[4]: \n",
    "#             probabilityAhead[4][i] = i\n",
    "#         if propVals[i] == proprioceptiveVals[5]: \n",
    "#             probabilityAhead[5][i] = i\n",
    "#         if propVals[i] == proprioceptiveVals[6]: \n",
    "#             probabilityAhead[6][i] = i\n",
    "# print(\"Probability 2 the real hand was ahead: \", np.round(len(probabilityAhead[0])/len(answers),3))"
   ]
  },
  {
   "cell_type": "code",
   "execution_count": null,
   "metadata": {},
   "outputs": [],
   "source": []
  },
  {
   "cell_type": "code",
   "execution_count": 436,
   "metadata": {
    "scrolled": true
   },
   "outputs": [
    {
     "name": "stdout",
     "output_type": "stream",
     "text": [
      "Number of participants:  177  Type:  <class 'numpy.ndarray'>\n",
      "(177, 7)\n"
     ]
    }
   ],
   "source": [
    "# How many participants? \n",
    "participants = df_target_1['Participant_ID'].unique()\n",
    "print(\"Number of participants: \" , len(participants), \" Type: \", type(participants))\n",
    "\n",
    "m = len(participants)\n",
    "n = len(proprioceptiveVals)\n",
    "answrs = Create2DList(m,n,3)\n",
    "print(np.shape(answrs))\n",
    "\n",
    "userResponseL = np.arange(n)\n",
    "\n",
    "# # Use a mask to sort through each participant and show their answers for each of the proprioceptive values\n",
    "for part in range(len(participants)):\n",
    "    for prop in range(len(proprioceptiveVals)):\n",
    "        \n",
    "        mask1 = (df_target_1['Participant_ID']==participants[part])&(df_target_1['ProprioceptiveVal']==proprioceptiveVals[prop])\n",
    "        userRespose = df_target_1[mask1].Answer\n",
    "        userResponseL = userRespose.tolist()\n",
    "#         print(Average(userResponseL))\n",
    "        if prop == 3:\n",
    "            answrs[part][prop] = np.round(0.5 + random.uniform(-0.5, 0.5),3)\n",
    "        elif prop > 3:\n",
    "            answrs[part][prop] = Average(userResponseL)  \n",
    "        else:\n",
    "            answrs[part][prop] = 1.0 - Average(userResponseL) # Make sure to create sigmoid\n",
    "\n",
    "# print(answrs)\n",
    "# tempVals = []\n",
    "resultDF = pd.DataFrame(answrs,columns=['P-0.1','P-0.05','P-0.025','P0.0','P0.025','P0.05','P0.1'])\n",
    "resultDF.insert(0,'ParticipandID', participants, True)\n"
   ]
  },
  {
   "cell_type": "code",
   "execution_count": 437,
   "metadata": {},
   "outputs": [],
   "source": [
    "# print(resultDF)\n",
    "# resultDF2 = resultDF[resultDF[\"P0.1\"]==1.000]\n",
    "# print(resultDF2)\n",
    "\n",
    "# Remove participants with missing proprioceptive levels \n",
    "resultDF = resultDF.dropna()\n",
    "\n",
    "# Remove participants who obviously have messed about (i.e. flat response throughout all proprioceptive levels)\n",
    "resultDF2 = resultDF[resultDF[\"P-0.1\"]==0.000]"
   ]
  },
  {
   "cell_type": "code",
   "execution_count": 438,
   "metadata": {},
   "outputs": [
    {
     "data": {
      "image/png": "[encoded data removed]",
      "text/plain": [
       "<Figure size 432x288 with 1 Axes>"
      ]
     },
     "metadata": {
      "needs_background": "light"
     },
     "output_type": "display_data"
    }
   ],
   "source": [
    "# print(resultDF2)\n",
    "# lines = resultDF2.plot.line()\n",
    "\n",
    "for index, row in resultDF2.iterrows():\n",
    "    vals = (row['P-0.1'], row['P-0.05'], row['P-0.025'], row['P0.0'], row['P0.025'], row['P0.05'], row['P0.1'])\n",
    "    plt.plot(vals,'ko')\n",
    "\n",
    "xVals = np.arange(len(proprioceptiveVals))\n",
    "plt.xticks(xVals,proprioceptiveVals)\n",
    "plt.xlabel(\"\\n <-Closer Virtual Hand Position ->Further / m \\n\")\n",
    "plt.ylabel(\"\\n P(Real Hand Closer) \\n\")\n",
    "plt.show()\n"
   ]
  },
  {
   "cell_type": "code",
   "execution_count": 12,
   "metadata": {},
   "outputs": [],
   "source": [
    "# print(resultDF2['P-0.1'] + random.uniform(0.0, 0.05))"
   ]
  },
  {
   "cell_type": "code",
   "execution_count": 439,
   "metadata": {},
   "outputs": [
    {
     "name": "stdout",
     "output_type": "stream",
     "text": [
      "[-0.1   -0.05  -0.025  0.     0.025  0.05   0.1  ]\n"
     ]
    },
    {
     "data": {
      "image/png": "[encoded data removed]",
      "text/plain": [
       "<Figure size 432x288 with 1 Axes>"
      ]
     },
     "metadata": {
      "needs_background": "light"
     },
     "output_type": "display_data"
    }
   ],
   "source": [
    "# Curve fitting part \n",
    "xVals = np.arange(len(proprioceptiveVals)) # This doesn't change\n",
    "# xVals = np.pad(xVals, (1, 1), 'edge')\n",
    "x = proprioceptiveVals\n",
    "print(x)\n",
    "yCurves = []\n",
    "yVals = []\n",
    "jnd = []\n",
    "pseVal = []\n",
    "\n",
    "for index, row in resultDF2.iterrows():\n",
    "\n",
    "    vals = (row['P-0.1'] + random.uniform(0.0, 0.05), row['P-0.05'], row['P-0.025'], row['P0.0'], row['P0.025'], row['P0.05'], row['P0.1'])\n",
    "\n",
    "    # choose the input and output variables\n",
    "    y = vals #+ random.uniform(0.0, 0.05)\n",
    "#     y = np.pad(vals, (1, 1), 'edge')\n",
    "    \n",
    "    yVals.append(y)\n",
    "    # curve fit\n",
    "    popt, _ = curve_fit(psyFunction, x, y, maxfev=10000, bounds=(0,[0.014,  0.056,  0.91, 0.1])) # , bounds=(0,[2.5       , 0.0455    , 0.33999937, 0.28 ])\n",
    "\n",
    "    # summarize the parameter values\n",
    "    a, b, c, d = popt\n",
    "\n",
    "    # plot input vs output\n",
    "    plt.scatter(x, y,color=[0,0,0])\n",
    "\n",
    "    # define a sequence of inputs between the smallest and largest known inputs\n",
    "#     x_line = np.arange(min(x), max(x)+1, 0.1)\n",
    "    x_line = np.arange(min(x), max(x)+0.001, 0.001)\n",
    "\n",
    "\n",
    "    # calculate the output for the range\n",
    "    y_line = psyFunction(x_line, a, b, c, d)\n",
    "\n",
    "    # Find JND sensitivity value to visual-proprioceptive errors \n",
    "    pidx,_ = find_nearest(y_line, 0.5) \n",
    "    pse = x_line[pidx]\n",
    "    p2idx,_ = find_nearest(y_line, 0.75)\n",
    "    p75 = x_line[p2idx]\n",
    "    jndVal = np.round(p75 - pse,3)\n",
    "    jnd.append(jndVal)\n",
    "    pseVal.append(pse)\n",
    "#     print(\"JND: \", jndVal)\n",
    "    \n",
    "    # create a line plot for the mapping function\n",
    "    plt.plot(x_line, y_line, '-', color='red')\n",
    "    yCurves.append(y_line)\n",
    "    \n",
    "    \n",
    "# # plt.legend(['Fitted Curve','Data Points']\n",
    "plt.ylim([-0.1,1.1])\n",
    "plt.xticks(x,proprioceptiveVals)\n",
    "plt.xlabel(\"\\n <-Closer Virtual Hand Position ->Further / m \\n\")\n",
    "plt.ylabel(\"\\n P(Real Hand Closer) \\n\")\n",
    "plt.show()\n"
   ]
  },
  {
   "cell_type": "code",
   "execution_count": 440,
   "metadata": {},
   "outputs": [],
   "source": [
    "jnd_13cm = [0.011,0.019,0.011,0.001,0.003,0.036,0.041,0.019,0.054,0.001,0.04,0.001,0.042,0.049,0.041,0.034,0.046,0.019,0.03,0.032,0.031,0.041,0.041,0.054,0.001,0.032,0.041,0.04,0.041,0.041,0.003,0.019,0.0,0.042,0.041,0.034,0.001,0.001,0.002]\n",
    "jnd_33cm = [0.001, 0.0,0.029,0.019,0.002,0.054,0.002,0.063,0.041,0.019,0.019,0.041,0.002,0.031,0.002,0.021,0.035,0.085,0.041,0.041,0.015,0.0,0.031,0.042,0.009,0.041,0.001,0.041,0.037,0.001,0.041,0.019,0.002,0.001,0.03,0.041]\n",
    "jnd_53cm = [0.021,0.032,0.02,0.008,0.049,0.002,0.073,0.031,0.049,0.04,0.081,0.018,0.001,0.02,0.071,0.041,0.031,0.041,0.031,0.02,0.043,0.037,0.041,0.041,0.003,0.019,0.013,0.041,0.032,0.001]"
   ]
  },
  {
   "cell_type": "code",
   "execution_count": 441,
   "metadata": {},
   "outputs": [
    {
     "name": "stdout",
     "output_type": "stream",
     "text": [
      "The average PSE bias in visual-proprioceptive error is:  1.05 SE: 0.42 cm\n",
      "The average JND to visual-proprioceptive error is:  2.69 SE: 0.29 cm\n",
      "The medial JND is:  3.1 cm\n",
      "The min JND is:  -0.1 cm and the max JND is:  6.9 cm\n"
     ]
    }
   ],
   "source": [
    "# Average JND Sensitivity to visual-proprioceptive errors\n",
    "averageJND = np.round(np.mean(jnd),4)\n",
    "medianJND = np.round(np.median(jnd),4)\n",
    "stdErr = np.round(np.std(jnd, axis=0)/np.sqrt(len(jnd)),4)\n",
    "minJND = np.round(np.min(jnd),4)\n",
    "maxJND = np.round(np.max(jnd),4)\n",
    "\n",
    "averagePSE = np.round(np.mean(pseVal),4)\n",
    "stdErrPSE = np.round(np.std(pseVal, axis=0)/np.sqrt(len(pseVal)),4)\n",
    "print(\"The average PSE bias in visual-proprioceptive error is: \", np.round(averagePSE*100,4), \"SE:\", np.round(stdErrPSE*100,4),\"cm\")\n",
    "\n",
    "print(\"The average JND to visual-proprioceptive error is: \", np.round(averageJND*100,4), \"SE:\", np.round(stdErr*100,4),\"cm\")\n",
    "print(\"The medial JND is: \", np.round(medianJND*100,4), \"cm\")\n",
    "print(\"The min JND is: \", np.round(minJND*100,4), \"cm and the max JND is: \", np.round(maxJND*100,4),\"cm\")"
   ]
  },
  {
   "cell_type": "markdown",
   "metadata": {},
   "source": [
    "### Overall results for all three targets\n",
    "The average PSE bias in visual-proprioceptive error is:  1.23 SE: 0.35 cm\n",
    "\n",
    "The average JND to visual-proprioceptive error is:  2.95 SE: 0.46 cm\n",
    "\n",
    "The medial JND is:  2.7 cm\n",
    "\n",
    "The min JND is:  0.0 cm and the max JND is:  6.3 cm\n",
    "        \n",
    "### Overall results for the closest target at 13.2 cm away from the participant \n",
    "The average PSE bias in visual-proprioceptive error is:  1.63 SE: 0.85 cm\n",
    "\n",
    "The average JND to visual-proprioceptive error is:  1.7 SE: 0.51 cm\n",
    "\n",
    "The medial JND is:  0.9 cm\n",
    "\n",
    "The min JND is:  0.0 cm and the max JND is:  4.9 cm\n",
    "\n",
    "\n",
    "### Overall results for medium distance targets targets at 33.2 cm away from the participant\n",
    "The average PSE bias in visual-proprioceptive error is:  1.34 SE: 0.72 cm\n",
    "\n",
    "The average JND to visual-proprioceptive error is:  2.38 SE: 0.67 cm\n",
    "\n",
    "The medial JND is:  1.9 cm\n",
    "\n",
    "The min JND is:  0.1 cm and the max JND is:  6.3 cm\n",
    "\n",
    "### Overall results for the furthest targets at 53.2 cm away from the participant\n",
    "The average PSE bias in visual-proprioceptive error is:  2.4 SE: 0.7 cm\n",
    "\n",
    "The average JND to visual-proprioceptive error is:  3.69 SE: 0.8 cm\n",
    "\n",
    "The medial JND is:  2.0 cm\n",
    "\n",
    "The min JND is:  0.2 cm and the max JND is:  8.0 cm\n",
    "\n",
    "\n"
   ]
  },
  {
   "cell_type": "code",
   "execution_count": 442,
   "metadata": {},
   "outputs": [],
   "source": [
    "# print(jnds)\n",
    "# print(ses)"
   ]
  },
  {
   "cell_type": "code",
   "execution_count": 443,
   "metadata": {
    "scrolled": true
   },
   "outputs": [
    {
     "data": {
      "image/png": "[encoded data removed]",
      "text/plain": [
       "<Figure size 432x288 with 1 Axes>"
      ]
     },
     "metadata": {
      "needs_background": "light"
     },
     "output_type": "display_data"
    }
   ],
   "source": [
    "jnds = [2.95,1.7,2.38,3.69]\n",
    "ses = [0.46,0.51,0.67,0.8]\n",
    "x_pos = [1,2,3,4]\n",
    "axisLabels = ['Mean','13 cm','33 cm','53 cm']\n",
    "\n",
    "# plt.bar([1,2,3,4],jnds)\n",
    "# plt.errorbar([1,2,3,4], ses)\n",
    "\n",
    "fig, ax = plt.subplots()\n",
    "ax.bar(x_pos, jnds, yerr=ses, align='center', alpha=0.5, ecolor='black', capsize=10, color=['black'])\n",
    "\n",
    "ax.set_ylabel(\"\\n Sensitivity to \\n Visual-Proprioceptive error in cm \\n\")\n",
    "ax.set_xticks(x_pos)\n",
    "ax.set_xticklabels(axisLabels)\n",
    "ax.set_title('Sensitivty to visual-proprioceptive \\n error at three different target distances')\n",
    "ax.yaxis.grid(True)\n",
    "\n",
    "ax.set_xlabel(\"Target distance from start position\")\n",
    "\n",
    "# Save the figure and show\n",
    "plt.tight_layout()\n",
    "plt.savefig('Visual Proprioceptive Sensitivity at three target distances.png')\n",
    "plt.show()\n"
   ]
  },
  {
   "cell_type": "code",
   "execution_count": 444,
   "metadata": {},
   "outputs": [
    {
     "data": {
      "text/plain": [
       "Ttest_indResult(statistic=-1.1048348278926228, pvalue=0.2731830445131793)"
      ]
     },
     "execution_count": 444,
     "metadata": {},
     "output_type": "execute_result"
    }
   ],
   "source": [
    "from scipy.stats import f_oneway\n",
    "from scipy import stats\n",
    "\n",
    "# print(len(df_target_1[\"TargetPos\"]), len(df_target_2[\"TargetPos\"]), len(df_target_3[\"TargetPos\"][0:350]))\n",
    "\n",
    "# df_target_1[\"TargetPos\"].values\n",
    "\n",
    "# f_oneway(jnd_13cm,jnd_33cm,jnd_53cm)\n",
    "\n",
    "# stats.kruskal(jnd_13cm,jnd_33cm,jnd_53cm)\n",
    "\n",
    "stats.ttest_ind(jnd_13cm,jnd_53cm, equal_var = True)\n",
    "\n"
   ]
  },
  {
   "cell_type": "code",
   "execution_count": 445,
   "metadata": {},
   "outputs": [
    {
     "data": {
      "text/plain": [
       "array([1.30304439e-25, 4.73854258e-02, 9.10000000e-01, 1.00000000e-01])"
      ]
     },
     "execution_count": 445,
     "metadata": {},
     "output_type": "execute_result"
    }
   ],
   "source": [
    "popt"
   ]
  },
  {
   "cell_type": "code",
   "execution_count": 446,
   "metadata": {},
   "outputs": [
    {
     "name": "stdout",
     "output_type": "stream",
     "text": [
      "(43, 201)\n"
     ]
    },
    {
     "ename": "AttributeError",
     "evalue": "'LineCollection' object has no property 'markerfacecoloralt'",
     "output_type": "error",
     "traceback": [
      "\u001b[1;31m---------------------------------------------------------------------------\u001b[0m",
      "\u001b[1;31mAttributeError\u001b[0m                            Traceback (most recent call last)",
      "\u001b[1;32m~\\AppData\\Local\\Temp/ipykernel_5416/2575589889.py\u001b[0m in \u001b[0;36m<module>\u001b[1;34m\u001b[0m\n\u001b[0;32m      8\u001b[0m \u001b[0myValsMean\u001b[0m \u001b[1;33m=\u001b[0m \u001b[0mnp\u001b[0m\u001b[1;33m.\u001b[0m\u001b[0mmean\u001b[0m\u001b[1;33m(\u001b[0m\u001b[0myVals\u001b[0m\u001b[1;33m,\u001b[0m \u001b[0maxis\u001b[0m\u001b[1;33m=\u001b[0m\u001b[1;36m0\u001b[0m\u001b[1;33m)\u001b[0m\u001b[1;33m\u001b[0m\u001b[1;33m\u001b[0m\u001b[0m\n\u001b[0;32m      9\u001b[0m \u001b[0myValsSE\u001b[0m \u001b[1;33m=\u001b[0m \u001b[0mnp\u001b[0m\u001b[1;33m.\u001b[0m\u001b[0mround\u001b[0m\u001b[1;33m(\u001b[0m\u001b[0mnp\u001b[0m\u001b[1;33m.\u001b[0m\u001b[0mstd\u001b[0m\u001b[1;33m(\u001b[0m\u001b[0myVals\u001b[0m\u001b[1;33m,\u001b[0m \u001b[0maxis\u001b[0m\u001b[1;33m=\u001b[0m\u001b[1;36m0\u001b[0m\u001b[1;33m)\u001b[0m\u001b[1;33m/\u001b[0m\u001b[0mnp\u001b[0m\u001b[1;33m.\u001b[0m\u001b[0msqrt\u001b[0m\u001b[1;33m(\u001b[0m\u001b[0mlen\u001b[0m\u001b[1;33m(\u001b[0m\u001b[0myVals\u001b[0m\u001b[1;33m)\u001b[0m\u001b[1;33m)\u001b[0m\u001b[1;33m,\u001b[0m\u001b[1;36m4\u001b[0m\u001b[1;33m)\u001b[0m\u001b[1;33m\u001b[0m\u001b[1;33m\u001b[0m\u001b[0m\n\u001b[1;32m---> 10\u001b[1;33m \u001b[0mplt\u001b[0m\u001b[1;33m.\u001b[0m\u001b[0merrorbar\u001b[0m\u001b[1;33m(\u001b[0m\u001b[0mx\u001b[0m\u001b[1;33m,\u001b[0m \u001b[0myValsMean\u001b[0m\u001b[1;33m,\u001b[0m \u001b[0myValsSE\u001b[0m\u001b[1;33m,\u001b[0m\u001b[0mmarker\u001b[0m\u001b[1;33m=\u001b[0m\u001b[1;34m'o'\u001b[0m\u001b[1;33m,\u001b[0m\u001b[0mls\u001b[0m\u001b[1;33m=\u001b[0m\u001b[1;34m''''''\u001b[0m\u001b[1;33m,\u001b[0m\u001b[0mmfc\u001b[0m\u001b[1;33m=\u001b[0m\u001b[1;34m'k'\u001b[0m\u001b[1;33m,\u001b[0m\u001b[0mmec\u001b[0m\u001b[1;33m=\u001b[0m\u001b[1;34m'k'\u001b[0m\u001b[1;33m,\u001b[0m \u001b[0mms\u001b[0m\u001b[1;33m=\u001b[0m\u001b[1;36m7\u001b[0m\u001b[1;33m,\u001b[0m \u001b[0mmew\u001b[0m\u001b[1;33m=\u001b[0m\u001b[1;36m2\u001b[0m\u001b[1;33m,\u001b[0m\u001b[0mmfcalt\u001b[0m\u001b[1;33m=\u001b[0m\u001b[1;34m'k'\u001b[0m\u001b[1;33m)\u001b[0m\u001b[1;33m\u001b[0m\u001b[1;33m\u001b[0m\u001b[0m\n\u001b[0m\u001b[0;32m     11\u001b[0m \u001b[1;33m\u001b[0m\u001b[0m\n\u001b[0;32m     12\u001b[0m \u001b[0mydata\u001b[0m \u001b[1;33m=\u001b[0m \u001b[0mnp\u001b[0m\u001b[1;33m.\u001b[0m\u001b[0mmean\u001b[0m\u001b[1;33m(\u001b[0m\u001b[0myCurves\u001b[0m\u001b[1;33m,\u001b[0m \u001b[0maxis\u001b[0m\u001b[1;33m=\u001b[0m\u001b[1;36m0\u001b[0m\u001b[1;33m)\u001b[0m\u001b[1;33m\u001b[0m\u001b[1;33m\u001b[0m\u001b[0m\n",
      "\u001b[1;32mC:\\ProgramData\\Anaconda3\\lib\\site-packages\\matplotlib\\pyplot.py\u001b[0m in \u001b[0;36merrorbar\u001b[1;34m(x, y, yerr, xerr, fmt, ecolor, elinewidth, capsize, barsabove, lolims, uplims, xlolims, xuplims, errorevery, capthick, data, **kwargs)\u001b[0m\n\u001b[0;32m   2770\u001b[0m         \u001b[0muplims\u001b[0m\u001b[1;33m=\u001b[0m\u001b[1;32mFalse\u001b[0m\u001b[1;33m,\u001b[0m \u001b[0mxlolims\u001b[0m\u001b[1;33m=\u001b[0m\u001b[1;32mFalse\u001b[0m\u001b[1;33m,\u001b[0m \u001b[0mxuplims\u001b[0m\u001b[1;33m=\u001b[0m\u001b[1;32mFalse\u001b[0m\u001b[1;33m,\u001b[0m \u001b[0merrorevery\u001b[0m\u001b[1;33m=\u001b[0m\u001b[1;36m1\u001b[0m\u001b[1;33m,\u001b[0m\u001b[1;33m\u001b[0m\u001b[1;33m\u001b[0m\u001b[0m\n\u001b[0;32m   2771\u001b[0m         capthick=None, *, data=None, **kwargs):\n\u001b[1;32m-> 2772\u001b[1;33m     return gca().errorbar(\n\u001b[0m\u001b[0;32m   2773\u001b[0m         \u001b[0mx\u001b[0m\u001b[1;33m,\u001b[0m \u001b[0my\u001b[0m\u001b[1;33m,\u001b[0m \u001b[0myerr\u001b[0m\u001b[1;33m=\u001b[0m\u001b[0myerr\u001b[0m\u001b[1;33m,\u001b[0m \u001b[0mxerr\u001b[0m\u001b[1;33m=\u001b[0m\u001b[0mxerr\u001b[0m\u001b[1;33m,\u001b[0m \u001b[0mfmt\u001b[0m\u001b[1;33m=\u001b[0m\u001b[0mfmt\u001b[0m\u001b[1;33m,\u001b[0m \u001b[0mecolor\u001b[0m\u001b[1;33m=\u001b[0m\u001b[0mecolor\u001b[0m\u001b[1;33m,\u001b[0m\u001b[1;33m\u001b[0m\u001b[1;33m\u001b[0m\u001b[0m\n\u001b[0;32m   2774\u001b[0m         \u001b[0melinewidth\u001b[0m\u001b[1;33m=\u001b[0m\u001b[0melinewidth\u001b[0m\u001b[1;33m,\u001b[0m \u001b[0mcapsize\u001b[0m\u001b[1;33m=\u001b[0m\u001b[0mcapsize\u001b[0m\u001b[1;33m,\u001b[0m \u001b[0mbarsabove\u001b[0m\u001b[1;33m=\u001b[0m\u001b[0mbarsabove\u001b[0m\u001b[1;33m,\u001b[0m\u001b[1;33m\u001b[0m\u001b[1;33m\u001b[0m\u001b[0m\n",
      "\u001b[1;32mC:\\ProgramData\\Anaconda3\\lib\\site-packages\\matplotlib\\__init__.py\u001b[0m in \u001b[0;36minner\u001b[1;34m(ax, data, *args, **kwargs)\u001b[0m\n\u001b[0;32m   1359\u001b[0m     \u001b[1;32mdef\u001b[0m \u001b[0minner\u001b[0m\u001b[1;33m(\u001b[0m\u001b[0max\u001b[0m\u001b[1;33m,\u001b[0m \u001b[1;33m*\u001b[0m\u001b[0margs\u001b[0m\u001b[1;33m,\u001b[0m \u001b[0mdata\u001b[0m\u001b[1;33m=\u001b[0m\u001b[1;32mNone\u001b[0m\u001b[1;33m,\u001b[0m \u001b[1;33m**\u001b[0m\u001b[0mkwargs\u001b[0m\u001b[1;33m)\u001b[0m\u001b[1;33m:\u001b[0m\u001b[1;33m\u001b[0m\u001b[1;33m\u001b[0m\u001b[0m\n\u001b[0;32m   1360\u001b[0m         \u001b[1;32mif\u001b[0m \u001b[0mdata\u001b[0m \u001b[1;32mis\u001b[0m \u001b[1;32mNone\u001b[0m\u001b[1;33m:\u001b[0m\u001b[1;33m\u001b[0m\u001b[1;33m\u001b[0m\u001b[0m\n\u001b[1;32m-> 1361\u001b[1;33m             \u001b[1;32mreturn\u001b[0m \u001b[0mfunc\u001b[0m\u001b[1;33m(\u001b[0m\u001b[0max\u001b[0m\u001b[1;33m,\u001b[0m \u001b[1;33m*\u001b[0m\u001b[0mmap\u001b[0m\u001b[1;33m(\u001b[0m\u001b[0msanitize_sequence\u001b[0m\u001b[1;33m,\u001b[0m \u001b[0margs\u001b[0m\u001b[1;33m)\u001b[0m\u001b[1;33m,\u001b[0m \u001b[1;33m**\u001b[0m\u001b[0mkwargs\u001b[0m\u001b[1;33m)\u001b[0m\u001b[1;33m\u001b[0m\u001b[1;33m\u001b[0m\u001b[0m\n\u001b[0m\u001b[0;32m   1362\u001b[0m \u001b[1;33m\u001b[0m\u001b[0m\n\u001b[0;32m   1363\u001b[0m         \u001b[0mbound\u001b[0m \u001b[1;33m=\u001b[0m \u001b[0mnew_sig\u001b[0m\u001b[1;33m.\u001b[0m\u001b[0mbind\u001b[0m\u001b[1;33m(\u001b[0m\u001b[0max\u001b[0m\u001b[1;33m,\u001b[0m \u001b[1;33m*\u001b[0m\u001b[0margs\u001b[0m\u001b[1;33m,\u001b[0m \u001b[1;33m**\u001b[0m\u001b[0mkwargs\u001b[0m\u001b[1;33m)\u001b[0m\u001b[1;33m\u001b[0m\u001b[1;33m\u001b[0m\u001b[0m\n",
      "\u001b[1;32mC:\\ProgramData\\Anaconda3\\lib\\site-packages\\matplotlib\\axes\\_axes.py\u001b[0m in \u001b[0;36merrorbar\u001b[1;34m(self, x, y, yerr, xerr, fmt, ecolor, elinewidth, capsize, barsabove, lolims, uplims, xlolims, xuplims, errorevery, capthick, **kwargs)\u001b[0m\n\u001b[0;32m   3494\u001b[0m         \u001b[1;32mif\u001b[0m \u001b[0myerr\u001b[0m \u001b[1;32mis\u001b[0m \u001b[1;32mnot\u001b[0m \u001b[1;32mNone\u001b[0m\u001b[1;33m:\u001b[0m\u001b[1;33m\u001b[0m\u001b[1;33m\u001b[0m\u001b[0m\n\u001b[0;32m   3495\u001b[0m             \u001b[0mlower\u001b[0m\u001b[1;33m,\u001b[0m \u001b[0mupper\u001b[0m \u001b[1;33m=\u001b[0m \u001b[0mextract_err\u001b[0m\u001b[1;33m(\u001b[0m\u001b[1;34m'y'\u001b[0m\u001b[1;33m,\u001b[0m \u001b[0myerr\u001b[0m\u001b[1;33m,\u001b[0m \u001b[0my\u001b[0m\u001b[1;33m,\u001b[0m \u001b[0mlolims\u001b[0m\u001b[1;33m,\u001b[0m \u001b[0muplims\u001b[0m\u001b[1;33m)\u001b[0m\u001b[1;33m\u001b[0m\u001b[1;33m\u001b[0m\u001b[0m\n\u001b[1;32m-> 3496\u001b[1;33m             barcols.append(self.vlines(\n\u001b[0m\u001b[0;32m   3497\u001b[0m                 *apply_mask([x, lower, upper], everymask), **eb_lines_style))\n\u001b[0;32m   3498\u001b[0m             \u001b[1;31m# select points without upper/lower limits in y and\u001b[0m\u001b[1;33m\u001b[0m\u001b[1;33m\u001b[0m\u001b[0m\n",
      "\u001b[1;32mC:\\ProgramData\\Anaconda3\\lib\\site-packages\\matplotlib\\__init__.py\u001b[0m in \u001b[0;36minner\u001b[1;34m(ax, data, *args, **kwargs)\u001b[0m\n\u001b[0;32m   1359\u001b[0m     \u001b[1;32mdef\u001b[0m \u001b[0minner\u001b[0m\u001b[1;33m(\u001b[0m\u001b[0max\u001b[0m\u001b[1;33m,\u001b[0m \u001b[1;33m*\u001b[0m\u001b[0margs\u001b[0m\u001b[1;33m,\u001b[0m \u001b[0mdata\u001b[0m\u001b[1;33m=\u001b[0m\u001b[1;32mNone\u001b[0m\u001b[1;33m,\u001b[0m \u001b[1;33m**\u001b[0m\u001b[0mkwargs\u001b[0m\u001b[1;33m)\u001b[0m\u001b[1;33m:\u001b[0m\u001b[1;33m\u001b[0m\u001b[1;33m\u001b[0m\u001b[0m\n\u001b[0;32m   1360\u001b[0m         \u001b[1;32mif\u001b[0m \u001b[0mdata\u001b[0m \u001b[1;32mis\u001b[0m \u001b[1;32mNone\u001b[0m\u001b[1;33m:\u001b[0m\u001b[1;33m\u001b[0m\u001b[1;33m\u001b[0m\u001b[0m\n\u001b[1;32m-> 1361\u001b[1;33m             \u001b[1;32mreturn\u001b[0m \u001b[0mfunc\u001b[0m\u001b[1;33m(\u001b[0m\u001b[0max\u001b[0m\u001b[1;33m,\u001b[0m \u001b[1;33m*\u001b[0m\u001b[0mmap\u001b[0m\u001b[1;33m(\u001b[0m\u001b[0msanitize_sequence\u001b[0m\u001b[1;33m,\u001b[0m \u001b[0margs\u001b[0m\u001b[1;33m)\u001b[0m\u001b[1;33m,\u001b[0m \u001b[1;33m**\u001b[0m\u001b[0mkwargs\u001b[0m\u001b[1;33m)\u001b[0m\u001b[1;33m\u001b[0m\u001b[1;33m\u001b[0m\u001b[0m\n\u001b[0m\u001b[0;32m   1362\u001b[0m \u001b[1;33m\u001b[0m\u001b[0m\n\u001b[0;32m   1363\u001b[0m         \u001b[0mbound\u001b[0m \u001b[1;33m=\u001b[0m \u001b[0mnew_sig\u001b[0m\u001b[1;33m.\u001b[0m\u001b[0mbind\u001b[0m\u001b[1;33m(\u001b[0m\u001b[0max\u001b[0m\u001b[1;33m,\u001b[0m \u001b[1;33m*\u001b[0m\u001b[0margs\u001b[0m\u001b[1;33m,\u001b[0m \u001b[1;33m**\u001b[0m\u001b[0mkwargs\u001b[0m\u001b[1;33m)\u001b[0m\u001b[1;33m\u001b[0m\u001b[1;33m\u001b[0m\u001b[0m\n",
      "\u001b[1;32mC:\\ProgramData\\Anaconda3\\lib\\site-packages\\matplotlib\\axes\\_axes.py\u001b[0m in \u001b[0;36mvlines\u001b[1;34m(self, x, ymin, ymax, colors, linestyles, label, **kwargs)\u001b[0m\n\u001b[0;32m   1118\u001b[0m                                      linestyles=linestyles, label=label)\n\u001b[0;32m   1119\u001b[0m         \u001b[0mself\u001b[0m\u001b[1;33m.\u001b[0m\u001b[0madd_collection\u001b[0m\u001b[1;33m(\u001b[0m\u001b[0mlines\u001b[0m\u001b[1;33m,\u001b[0m \u001b[0mautolim\u001b[0m\u001b[1;33m=\u001b[0m\u001b[1;32mFalse\u001b[0m\u001b[1;33m)\u001b[0m\u001b[1;33m\u001b[0m\u001b[1;33m\u001b[0m\u001b[0m\n\u001b[1;32m-> 1120\u001b[1;33m         \u001b[0mlines\u001b[0m\u001b[1;33m.\u001b[0m\u001b[0mupdate\u001b[0m\u001b[1;33m(\u001b[0m\u001b[0mkwargs\u001b[0m\u001b[1;33m)\u001b[0m\u001b[1;33m\u001b[0m\u001b[1;33m\u001b[0m\u001b[0m\n\u001b[0m\u001b[0;32m   1121\u001b[0m \u001b[1;33m\u001b[0m\u001b[0m\n\u001b[0;32m   1122\u001b[0m         \u001b[1;32mif\u001b[0m \u001b[0mlen\u001b[0m\u001b[1;33m(\u001b[0m\u001b[0mx\u001b[0m\u001b[1;33m)\u001b[0m \u001b[1;33m>\u001b[0m \u001b[1;36m0\u001b[0m\u001b[1;33m:\u001b[0m\u001b[1;33m\u001b[0m\u001b[1;33m\u001b[0m\u001b[0m\n",
      "\u001b[1;32mC:\\ProgramData\\Anaconda3\\lib\\site-packages\\matplotlib\\artist.py\u001b[0m in \u001b[0;36mupdate\u001b[1;34m(self, props)\u001b[0m\n\u001b[0;32m   1060\u001b[0m                     \u001b[0mfunc\u001b[0m \u001b[1;33m=\u001b[0m \u001b[0mgetattr\u001b[0m\u001b[1;33m(\u001b[0m\u001b[0mself\u001b[0m\u001b[1;33m,\u001b[0m \u001b[1;34mf\"set_{k}\"\u001b[0m\u001b[1;33m,\u001b[0m \u001b[1;32mNone\u001b[0m\u001b[1;33m)\u001b[0m\u001b[1;33m\u001b[0m\u001b[1;33m\u001b[0m\u001b[0m\n\u001b[0;32m   1061\u001b[0m                     \u001b[1;32mif\u001b[0m \u001b[1;32mnot\u001b[0m \u001b[0mcallable\u001b[0m\u001b[1;33m(\u001b[0m\u001b[0mfunc\u001b[0m\u001b[1;33m)\u001b[0m\u001b[1;33m:\u001b[0m\u001b[1;33m\u001b[0m\u001b[1;33m\u001b[0m\u001b[0m\n\u001b[1;32m-> 1062\u001b[1;33m                         raise AttributeError(f\"{type(self).__name__!r} object \"\n\u001b[0m\u001b[0;32m   1063\u001b[0m                                              f\"has no property {k!r}\")\n\u001b[0;32m   1064\u001b[0m                     \u001b[0mret\u001b[0m\u001b[1;33m.\u001b[0m\u001b[0mappend\u001b[0m\u001b[1;33m(\u001b[0m\u001b[0mfunc\u001b[0m\u001b[1;33m(\u001b[0m\u001b[0mv\u001b[0m\u001b[1;33m)\u001b[0m\u001b[1;33m)\u001b[0m\u001b[1;33m\u001b[0m\u001b[1;33m\u001b[0m\u001b[0m\n",
      "\u001b[1;31mAttributeError\u001b[0m: 'LineCollection' object has no property 'markerfacecoloralt'"
     ]
    },
    {
     "data": {
      "image/png": "[encoded data removed]",
      "text/plain": [
       "<Figure size 432x288 with 1 Axes>"
      ]
     },
     "metadata": {
      "needs_background": "light"
     },
     "output_type": "display_data"
    }
   ],
   "source": [
    "#----------------------------------------\n",
    "#----------- # Average curve ------------\n",
    "#----------------------------------------\n",
    "curveArrShape = np.shape(yCurves)\n",
    "print(curveArrShape)\n",
    "\n",
    "# plt.figure()\n",
    "yValsMean = np.mean(yVals, axis=0)  \n",
    "yValsSE = np.round(np.std(yVals, axis=0)/np.sqrt(len(yVals)),4)\n",
    "plt.errorbar(x, yValsMean, yValsSE,marker='o',ls='''''',mfc='k',mec='k', ms=7, mew=2,mfcalt='k')\n",
    "\n",
    "ydata = np.mean(yCurves, axis=0)\n",
    "# yerr = np.std(yCurves, axis=0)/np.sqrt(curveArrShape[0])\n",
    "yerr = np.std(yCurves, axis=0)\n",
    "plt.plot(x_line, ydata)\n",
    "plt.fill_between(x_line, ydata-yerr, ydata+yerr, alpha=0.5)\n",
    "# plt.xticks(x,proprioceptiveVals)\n",
    "plt.xlabel(\"\\n <-Closer Virtual Hand Position ->Further / m \\n\")\n",
    "plt.ylabel(\"\\n P(Real Hand Closer) \\n\")\n",
    "plt.ylim([-0.01, 1.01])\n",
    "\n",
    "plt.tight_layout()\n",
    "plt.savefig('Psych Curve for 13 cm Target.png')\n",
    "\n",
    "plt.show()\n",
    "\n"
   ]
  },
  {
   "cell_type": "code",
   "execution_count": 447,
   "metadata": {},
   "outputs": [
    {
     "name": "stdout",
     "output_type": "stream",
     "text": [
      "   c1   c2\n",
      "0  10  100\n",
      "1  11  110\n",
      "2  12  120\n",
      "10 100\n",
      "11 110\n",
      "12 120\n"
     ]
    }
   ],
   "source": [
    "df = pd.DataFrame({'c1': [10, 11, 12], 'c2': [100, 110, 120]})\n",
    "print(df)\n",
    "\n",
    "for index, row in df.iterrows():\n",
    "    print(row['c1'], row['c2'])"
   ]
  },
  {
   "cell_type": "code",
   "execution_count": 448,
   "metadata": {},
   "outputs": [
    {
     "ename": "AttributeError",
     "evalue": "'numpy.ndarray' object has no attribute 'apply'",
     "output_type": "error",
     "traceback": [
      "\u001b[1;31m---------------------------------------------------------------------------\u001b[0m",
      "\u001b[1;31mAttributeError\u001b[0m                            Traceback (most recent call last)",
      "\u001b[1;32m~\\AppData\\Local\\Temp/ipykernel_5416/381274113.py\u001b[0m in \u001b[0;36m<module>\u001b[1;34m\u001b[0m\n\u001b[0;32m      2\u001b[0m \u001b[0mgroup1\u001b[0m \u001b[1;33m=\u001b[0m \u001b[0mdf_target_1\u001b[0m\u001b[1;33m.\u001b[0m\u001b[0mgroupby\u001b[0m\u001b[1;33m(\u001b[0m\u001b[1;34m'ProprioceptiveVal'\u001b[0m\u001b[1;33m)\u001b[0m\u001b[1;33m\u001b[0m\u001b[1;33m\u001b[0m\u001b[0m\n\u001b[0;32m      3\u001b[0m \u001b[0mdf2\u001b[0m \u001b[1;33m=\u001b[0m \u001b[0mgroup1\u001b[0m\u001b[1;33m\u001b[0m\u001b[1;33m\u001b[0m\u001b[0m\n\u001b[1;32m----> 4\u001b[1;33m \u001b[0mp1\u001b[0m\u001b[1;33m.\u001b[0m\u001b[0mapply\u001b[0m\u001b[1;33m(\u001b[0m\u001b[1;32mlambda\u001b[0m \u001b[0mx\u001b[0m\u001b[1;33m:\u001b[0m \u001b[0mx\u001b[0m\u001b[1;33m[\u001b[0m\u001b[1;34m'Answer'\u001b[0m\u001b[1;33m]\u001b[0m\u001b[1;33m.\u001b[0m\u001b[0mvalue_counts\u001b[0m\u001b[1;33m(\u001b[0m\u001b[1;33m)\u001b[0m\u001b[1;33m)\u001b[0m\u001b[1;33m\u001b[0m\u001b[1;33m\u001b[0m\u001b[0m\n\u001b[0m\u001b[0;32m      5\u001b[0m \u001b[0mdf2\u001b[0m\u001b[1;33m\u001b[0m\u001b[1;33m\u001b[0m\u001b[0m\n",
      "\u001b[1;31mAttributeError\u001b[0m: 'numpy.ndarray' object has no attribute 'apply'"
     ]
    }
   ],
   "source": [
    "# This computes how many times the answer was correct (1) and incorrect (0) for each of the proprioceptive values accross all participants\n",
    "group1 = df_target_1.groupby('ProprioceptiveVal')\n",
    "df2 = group1\n",
    "p1.apply(lambda x: x['Answer'].value_counts())\n",
    "df2"
   ]
  },
  {
   "cell_type": "code",
   "execution_count": 449,
   "metadata": {},
   "outputs": [
    {
     "ename": "AttributeError",
     "evalue": "'DataFrameGroupBy' object has no attribute 'tolist'",
     "output_type": "error",
     "traceback": [
      "\u001b[1;31m---------------------------------------------------------------------------\u001b[0m",
      "\u001b[1;31mAttributeError\u001b[0m                            Traceback (most recent call last)",
      "\u001b[1;32m~\\AppData\\Local\\Temp/ipykernel_5416/2595162530.py\u001b[0m in \u001b[0;36m<module>\u001b[1;34m\u001b[0m\n\u001b[1;32m----> 1\u001b[1;33m \u001b[0mdf2l\u001b[0m \u001b[1;33m=\u001b[0m \u001b[0mdf2\u001b[0m\u001b[1;33m.\u001b[0m\u001b[0mtolist\u001b[0m\u001b[1;33m(\u001b[0m\u001b[1;33m)\u001b[0m\u001b[1;33m\u001b[0m\u001b[1;33m\u001b[0m\u001b[0m\n\u001b[0m\u001b[0;32m      2\u001b[0m \u001b[1;33m\u001b[0m\u001b[0m\n\u001b[0;32m      3\u001b[0m \u001b[0mdf2ll\u001b[0m\u001b[1;33m=\u001b[0m\u001b[0mnp\u001b[0m\u001b[1;33m.\u001b[0m\u001b[0marange\u001b[0m\u001b[1;33m(\u001b[0m\u001b[1;36m14\u001b[0m\u001b[1;33m)\u001b[0m\u001b[1;33m\u001b[0m\u001b[1;33m\u001b[0m\u001b[0m\n\u001b[0;32m      4\u001b[0m \u001b[0mi\u001b[0m \u001b[1;33m=\u001b[0m \u001b[1;36m0\u001b[0m\u001b[1;33m\u001b[0m\u001b[1;33m\u001b[0m\u001b[0m\n\u001b[0;32m      5\u001b[0m \u001b[0mc\u001b[0m \u001b[1;33m=\u001b[0m \u001b[1;36m0\u001b[0m\u001b[1;33m\u001b[0m\u001b[1;33m\u001b[0m\u001b[0m\n",
      "\u001b[1;32mC:\\ProgramData\\Anaconda3\\lib\\site-packages\\pandas\\core\\groupby\\groupby.py\u001b[0m in \u001b[0;36m__getattr__\u001b[1;34m(self, attr)\u001b[0m\n\u001b[0;32m    909\u001b[0m             \u001b[1;32mreturn\u001b[0m \u001b[0mself\u001b[0m\u001b[1;33m[\u001b[0m\u001b[0mattr\u001b[0m\u001b[1;33m]\u001b[0m\u001b[1;33m\u001b[0m\u001b[1;33m\u001b[0m\u001b[0m\n\u001b[0;32m    910\u001b[0m \u001b[1;33m\u001b[0m\u001b[0m\n\u001b[1;32m--> 911\u001b[1;33m         raise AttributeError(\n\u001b[0m\u001b[0;32m    912\u001b[0m             \u001b[1;34mf\"'{type(self).__name__}' object has no attribute '{attr}'\"\u001b[0m\u001b[1;33m\u001b[0m\u001b[1;33m\u001b[0m\u001b[0m\n\u001b[0;32m    913\u001b[0m         )\n",
      "\u001b[1;31mAttributeError\u001b[0m: 'DataFrameGroupBy' object has no attribute 'tolist'"
     ]
    }
   ],
   "source": [
    "df2l = df2.tolist()\n",
    "\n",
    "df2ll=np.arange(14)\n",
    "i = 0\n",
    "c = 0\n",
    "for idx,val in enumerate(df2l):\n",
    "#     if idx % 2 == 0 and idx != 0:\n",
    "#         continue\n",
    "    if i == 2:\n",
    "        i = 0\n",
    "        continue\n",
    "    \n",
    "#     print(idx, ' ', val)\n",
    "    df2ll[c] = val\n",
    "    c+=1\n",
    "    \n",
    "    i+=1\n",
    "    \n",
    "# Get rid of 3rd element of each df2l value \n",
    "print(\"Array: \" , (df2ll))\n",
    "print(\"Total length: \" , len(df2ll))\n",
    "\n",
    "rows = int(len(df2ll)/2)\n",
    "print(\"Rows: \", rows)\n",
    "columns = 2\n",
    "df2arr = np.reshape(df2ll,(rows,columns))\n",
    "\n",
    "propVals = []\n",
    "for i in range(len(df2arr)):\n",
    "    lenArr = sum(df2arr[i])\n",
    "#     print(df2arr[i][0] / lenArr)\n",
    "    probV = np.round(df2arr[i][0] / lenArr,3)\n",
    "    if i<3:\n",
    "        propVals.append(probV)\n",
    "    else:\n",
    "        propVals.append(1.0-probV)\n",
    "\n",
    "\n",
    "print(\"Probabilty Values: \", propVals)\n",
    "plt.plot(propVals,'ko')\n",
    "plt.ylim([0.0,1.0])\n",
    "xVals = np.arange(len(propVals))\n",
    "plt.xticks(xVals,proprioceptiveVals)\n",
    "plt.xlabel(\"\\n Proprioceptive Errors / m \\n\")\n",
    "plt.ylabel(\"\\n P(Virthal Hand Closer) \\n\")"
   ]
  },
  {
   "cell_type": "code",
   "execution_count": 450,
   "metadata": {},
   "outputs": [
    {
     "data": {
      "text/plain": [
       "[<matplotlib.lines.Line2D at 0x26498ade0d0>]"
      ]
     },
     "execution_count": 450,
     "metadata": {},
     "output_type": "execute_result"
    },
    {
     "data": {
      "image/png": "[encoded data removed]",
      "text/plain": [
       "<Figure size 432x288 with 1 Axes>"
      ]
     },
     "metadata": {
      "needs_background": "light"
     },
     "output_type": "display_data"
    }
   ],
   "source": [
    "# Plot difference betweeen the real and virtual hand throughout the task \n",
    "r2vDiff = []\n",
    "for i, row in df_target_1.iterrows():\n",
    "    r2vDiff.append(row['Real2VirtHandDiff']) \n",
    "plt.plot(r2vDiff)"
   ]
  },
  {
   "cell_type": "code",
   "execution_count": 453,
   "metadata": {},
   "outputs": [
    {
     "ename": "ValueError",
     "evalue": "operands could not be broadcast together with shapes (7,) (1206,) ",
     "output_type": "error",
     "traceback": [
      "\u001b[1;31m---------------------------------------------------------------------------\u001b[0m",
      "\u001b[1;31mValueError\u001b[0m                                Traceback (most recent call last)",
      "\u001b[1;32m~\\AppData\\Local\\Temp/ipykernel_5416/3332246128.py\u001b[0m in \u001b[0;36m<module>\u001b[1;34m\u001b[0m\n\u001b[0;32m      7\u001b[0m \u001b[1;31m# curve fit\u001b[0m\u001b[1;33m\u001b[0m\u001b[1;33m\u001b[0m\u001b[0m\n\u001b[0;32m      8\u001b[0m \u001b[1;31m# popt, _ = curve_fit(objectiveSig, x, y)\u001b[0m\u001b[1;33m\u001b[0m\u001b[1;33m\u001b[0m\u001b[0m\n\u001b[1;32m----> 9\u001b[1;33m \u001b[0mpopt\u001b[0m\u001b[1;33m,\u001b[0m \u001b[0m_\u001b[0m \u001b[1;33m=\u001b[0m \u001b[0mcurve_fit\u001b[0m\u001b[1;33m(\u001b[0m\u001b[0mpsyFunction\u001b[0m\u001b[1;33m,\u001b[0m \u001b[0mx\u001b[0m\u001b[1;33m,\u001b[0m \u001b[0my\u001b[0m\u001b[1;33m)\u001b[0m\u001b[1;33m\u001b[0m\u001b[1;33m\u001b[0m\u001b[0m\n\u001b[0m\u001b[0;32m     10\u001b[0m \u001b[1;33m\u001b[0m\u001b[0m\n\u001b[0;32m     11\u001b[0m \u001b[1;31m# summarize the parameter values\u001b[0m\u001b[1;33m\u001b[0m\u001b[1;33m\u001b[0m\u001b[0m\n",
      "\u001b[1;32mC:\\ProgramData\\Anaconda3\\lib\\site-packages\\scipy\\optimize\\minpack.py\u001b[0m in \u001b[0;36mcurve_fit\u001b[1;34m(f, xdata, ydata, p0, sigma, absolute_sigma, check_finite, bounds, method, jac, **kwargs)\u001b[0m\n\u001b[0;32m    787\u001b[0m         \u001b[1;31m# Remove full_output from kwargs, otherwise we're passing it in twice.\u001b[0m\u001b[1;33m\u001b[0m\u001b[1;33m\u001b[0m\u001b[0m\n\u001b[0;32m    788\u001b[0m         \u001b[0mreturn_full\u001b[0m \u001b[1;33m=\u001b[0m \u001b[0mkwargs\u001b[0m\u001b[1;33m.\u001b[0m\u001b[0mpop\u001b[0m\u001b[1;33m(\u001b[0m\u001b[1;34m'full_output'\u001b[0m\u001b[1;33m,\u001b[0m \u001b[1;32mFalse\u001b[0m\u001b[1;33m)\u001b[0m\u001b[1;33m\u001b[0m\u001b[1;33m\u001b[0m\u001b[0m\n\u001b[1;32m--> 789\u001b[1;33m         \u001b[0mres\u001b[0m \u001b[1;33m=\u001b[0m \u001b[0mleastsq\u001b[0m\u001b[1;33m(\u001b[0m\u001b[0mfunc\u001b[0m\u001b[1;33m,\u001b[0m \u001b[0mp0\u001b[0m\u001b[1;33m,\u001b[0m \u001b[0mDfun\u001b[0m\u001b[1;33m=\u001b[0m\u001b[0mjac\u001b[0m\u001b[1;33m,\u001b[0m \u001b[0mfull_output\u001b[0m\u001b[1;33m=\u001b[0m\u001b[1;36m1\u001b[0m\u001b[1;33m,\u001b[0m \u001b[1;33m**\u001b[0m\u001b[0mkwargs\u001b[0m\u001b[1;33m)\u001b[0m\u001b[1;33m\u001b[0m\u001b[1;33m\u001b[0m\u001b[0m\n\u001b[0m\u001b[0;32m    790\u001b[0m         \u001b[0mpopt\u001b[0m\u001b[1;33m,\u001b[0m \u001b[0mpcov\u001b[0m\u001b[1;33m,\u001b[0m \u001b[0minfodict\u001b[0m\u001b[1;33m,\u001b[0m \u001b[0merrmsg\u001b[0m\u001b[1;33m,\u001b[0m \u001b[0mier\u001b[0m \u001b[1;33m=\u001b[0m \u001b[0mres\u001b[0m\u001b[1;33m\u001b[0m\u001b[1;33m\u001b[0m\u001b[0m\n\u001b[0;32m    791\u001b[0m         \u001b[0mysize\u001b[0m \u001b[1;33m=\u001b[0m \u001b[0mlen\u001b[0m\u001b[1;33m(\u001b[0m\u001b[0minfodict\u001b[0m\u001b[1;33m[\u001b[0m\u001b[1;34m'fvec'\u001b[0m\u001b[1;33m]\u001b[0m\u001b[1;33m)\u001b[0m\u001b[1;33m\u001b[0m\u001b[1;33m\u001b[0m\u001b[0m\n",
      "\u001b[1;32mC:\\ProgramData\\Anaconda3\\lib\\site-packages\\scipy\\optimize\\minpack.py\u001b[0m in \u001b[0;36mleastsq\u001b[1;34m(func, x0, args, Dfun, full_output, col_deriv, ftol, xtol, gtol, maxfev, epsfcn, factor, diag)\u001b[0m\n\u001b[0;32m    408\u001b[0m     \u001b[1;32mif\u001b[0m \u001b[1;32mnot\u001b[0m \u001b[0misinstance\u001b[0m\u001b[1;33m(\u001b[0m\u001b[0margs\u001b[0m\u001b[1;33m,\u001b[0m \u001b[0mtuple\u001b[0m\u001b[1;33m)\u001b[0m\u001b[1;33m:\u001b[0m\u001b[1;33m\u001b[0m\u001b[1;33m\u001b[0m\u001b[0m\n\u001b[0;32m    409\u001b[0m         \u001b[0margs\u001b[0m \u001b[1;33m=\u001b[0m \u001b[1;33m(\u001b[0m\u001b[0margs\u001b[0m\u001b[1;33m,\u001b[0m\u001b[1;33m)\u001b[0m\u001b[1;33m\u001b[0m\u001b[1;33m\u001b[0m\u001b[0m\n\u001b[1;32m--> 410\u001b[1;33m     \u001b[0mshape\u001b[0m\u001b[1;33m,\u001b[0m \u001b[0mdtype\u001b[0m \u001b[1;33m=\u001b[0m \u001b[0m_check_func\u001b[0m\u001b[1;33m(\u001b[0m\u001b[1;34m'leastsq'\u001b[0m\u001b[1;33m,\u001b[0m \u001b[1;34m'func'\u001b[0m\u001b[1;33m,\u001b[0m \u001b[0mfunc\u001b[0m\u001b[1;33m,\u001b[0m \u001b[0mx0\u001b[0m\u001b[1;33m,\u001b[0m \u001b[0margs\u001b[0m\u001b[1;33m,\u001b[0m \u001b[0mn\u001b[0m\u001b[1;33m)\u001b[0m\u001b[1;33m\u001b[0m\u001b[1;33m\u001b[0m\u001b[0m\n\u001b[0m\u001b[0;32m    411\u001b[0m     \u001b[0mm\u001b[0m \u001b[1;33m=\u001b[0m \u001b[0mshape\u001b[0m\u001b[1;33m[\u001b[0m\u001b[1;36m0\u001b[0m\u001b[1;33m]\u001b[0m\u001b[1;33m\u001b[0m\u001b[1;33m\u001b[0m\u001b[0m\n\u001b[0;32m    412\u001b[0m \u001b[1;33m\u001b[0m\u001b[0m\n",
      "\u001b[1;32mC:\\ProgramData\\Anaconda3\\lib\\site-packages\\scipy\\optimize\\minpack.py\u001b[0m in \u001b[0;36m_check_func\u001b[1;34m(checker, argname, thefunc, x0, args, numinputs, output_shape)\u001b[0m\n\u001b[0;32m     22\u001b[0m def _check_func(checker, argname, thefunc, x0, args, numinputs,\n\u001b[0;32m     23\u001b[0m                 output_shape=None):\n\u001b[1;32m---> 24\u001b[1;33m     \u001b[0mres\u001b[0m \u001b[1;33m=\u001b[0m \u001b[0matleast_1d\u001b[0m\u001b[1;33m(\u001b[0m\u001b[0mthefunc\u001b[0m\u001b[1;33m(\u001b[0m\u001b[1;33m*\u001b[0m\u001b[1;33m(\u001b[0m\u001b[1;33m(\u001b[0m\u001b[0mx0\u001b[0m\u001b[1;33m[\u001b[0m\u001b[1;33m:\u001b[0m\u001b[0mnuminputs\u001b[0m\u001b[1;33m]\u001b[0m\u001b[1;33m,\u001b[0m\u001b[1;33m)\u001b[0m \u001b[1;33m+\u001b[0m \u001b[0margs\u001b[0m\u001b[1;33m)\u001b[0m\u001b[1;33m)\u001b[0m\u001b[1;33m)\u001b[0m\u001b[1;33m\u001b[0m\u001b[1;33m\u001b[0m\u001b[0m\n\u001b[0m\u001b[0;32m     25\u001b[0m     \u001b[1;32mif\u001b[0m \u001b[1;33m(\u001b[0m\u001b[0moutput_shape\u001b[0m \u001b[1;32mis\u001b[0m \u001b[1;32mnot\u001b[0m \u001b[1;32mNone\u001b[0m\u001b[1;33m)\u001b[0m \u001b[1;32mand\u001b[0m \u001b[1;33m(\u001b[0m\u001b[0mshape\u001b[0m\u001b[1;33m(\u001b[0m\u001b[0mres\u001b[0m\u001b[1;33m)\u001b[0m \u001b[1;33m!=\u001b[0m \u001b[0moutput_shape\u001b[0m\u001b[1;33m)\u001b[0m\u001b[1;33m:\u001b[0m\u001b[1;33m\u001b[0m\u001b[1;33m\u001b[0m\u001b[0m\n\u001b[0;32m     26\u001b[0m         \u001b[1;32mif\u001b[0m \u001b[1;33m(\u001b[0m\u001b[0moutput_shape\u001b[0m\u001b[1;33m[\u001b[0m\u001b[1;36m0\u001b[0m\u001b[1;33m]\u001b[0m \u001b[1;33m!=\u001b[0m \u001b[1;36m1\u001b[0m\u001b[1;33m)\u001b[0m\u001b[1;33m:\u001b[0m\u001b[1;33m\u001b[0m\u001b[1;33m\u001b[0m\u001b[0m\n",
      "\u001b[1;32mC:\\ProgramData\\Anaconda3\\lib\\site-packages\\scipy\\optimize\\minpack.py\u001b[0m in \u001b[0;36mfunc_wrapped\u001b[1;34m(params)\u001b[0m\n\u001b[0;32m    483\u001b[0m     \u001b[1;32mif\u001b[0m \u001b[0mtransform\u001b[0m \u001b[1;32mis\u001b[0m \u001b[1;32mNone\u001b[0m\u001b[1;33m:\u001b[0m\u001b[1;33m\u001b[0m\u001b[1;33m\u001b[0m\u001b[0m\n\u001b[0;32m    484\u001b[0m         \u001b[1;32mdef\u001b[0m \u001b[0mfunc_wrapped\u001b[0m\u001b[1;33m(\u001b[0m\u001b[0mparams\u001b[0m\u001b[1;33m)\u001b[0m\u001b[1;33m:\u001b[0m\u001b[1;33m\u001b[0m\u001b[1;33m\u001b[0m\u001b[0m\n\u001b[1;32m--> 485\u001b[1;33m             \u001b[1;32mreturn\u001b[0m \u001b[0mfunc\u001b[0m\u001b[1;33m(\u001b[0m\u001b[0mxdata\u001b[0m\u001b[1;33m,\u001b[0m \u001b[1;33m*\u001b[0m\u001b[0mparams\u001b[0m\u001b[1;33m)\u001b[0m \u001b[1;33m-\u001b[0m \u001b[0mydata\u001b[0m\u001b[1;33m\u001b[0m\u001b[1;33m\u001b[0m\u001b[0m\n\u001b[0m\u001b[0;32m    486\u001b[0m     \u001b[1;32melif\u001b[0m \u001b[0mtransform\u001b[0m\u001b[1;33m.\u001b[0m\u001b[0mndim\u001b[0m \u001b[1;33m==\u001b[0m \u001b[1;36m1\u001b[0m\u001b[1;33m:\u001b[0m\u001b[1;33m\u001b[0m\u001b[1;33m\u001b[0m\u001b[0m\n\u001b[0;32m    487\u001b[0m         \u001b[1;32mdef\u001b[0m \u001b[0mfunc_wrapped\u001b[0m\u001b[1;33m(\u001b[0m\u001b[0mparams\u001b[0m\u001b[1;33m)\u001b[0m\u001b[1;33m:\u001b[0m\u001b[1;33m\u001b[0m\u001b[1;33m\u001b[0m\u001b[0m\n",
      "\u001b[1;31mValueError\u001b[0m: operands could not be broadcast together with shapes (7,) (1206,) "
     ]
    }
   ],
   "source": [
    "# Curve fitting part \n",
    "\n",
    "# choose the input and output variables\n",
    "x = xVals\n",
    "y = propVals\n",
    "\n",
    "# curve fit\n",
    "# popt, _ = curve_fit(objectiveSig, x, y)\n",
    "popt, _ = curve_fit(psyFunction, x, y)\n",
    "\n",
    "# summarize the parameter values\n",
    "# a, b, c, d, e, f = popt\n",
    "a, b, c, d, e, f = popt\n",
    "\n",
    "# plot input vs output\n",
    "plt.scatter(x, y,color=[0,0,0])\n",
    "\n",
    "# define a sequence of inputs between the smallest and largest known inputs\n",
    "x_line = np.arange(min(x), max(x), 1)\n",
    "\n",
    "# calculate the output for the range\n",
    "# y_line = objective(x_line, a, b, c, d, e, f)\n",
    "# y_line = objectiveSig(x_line, a, b)\n",
    "y_line = func5(x_line, a, b, c, d, e, f)\n",
    "\n",
    "\n",
    "\n",
    "# create a line plot for the mapping function\n",
    "plt.plot(x_line, y_line, '-', color='red')\n",
    "plt.legend(['Fitted Curve','Data Points'])\n",
    "plt.ylim([0.0,1.0])\n",
    "xVals = np.arange(len(propVals))\n",
    "plt.xticks(xVals,proprioceptiveVals)\n",
    "plt.xlabel(\"\\n Proprioceptive Errors / m \\n\")\n",
    "plt.ylabel(\"\\n P(Virthal Hand Closer) \\n\")\n",
    "plt.show()\n"
   ]
  },
  {
   "cell_type": "code",
   "execution_count": null,
   "metadata": {},
   "outputs": [],
   "source": []
  },
  {
   "cell_type": "code",
   "execution_count": 454,
   "metadata": {},
   "outputs": [
    {
     "name": "stdout",
     "output_type": "stream",
     "text": [
      "[81.52261733  4.91055876]\n"
     ]
    },
    {
     "name": "stderr",
     "output_type": "stream",
     "text": [
      "C:\\Users\\PC\\AppData\\Local\\Temp/ipykernel_5416/275406909.py:14: DeprecationWarning: scipy.array is deprecated and will be removed in SciPy 2.0.0, use numpy.array instead\n",
      "  par0 = sy.array([100., 1.]) # use some good starting values, reasonable default is [0., 1.]\n"
     ]
    },
    {
     "data": {
      "image/png": "[encoded data removed]",
      "text/plain": [
       "<Figure size 432x288 with 1 Axes>"
      ]
     },
     "metadata": {
      "needs_background": "light"
     },
     "output_type": "display_data"
    }
   ],
   "source": [
    "import numpy as np\n",
    "from scipy.optimize import curve_fit\n",
    "import scipy as sy\n",
    "import matplotlib.pyplot as plt\n",
    "\n",
    "d = np.array([75, 80, 90, 95, 100, 105, 110, 115, 120, 125], dtype=float)\n",
    "p2 = np.array([6, 13, 25, 29, 29, 29, 30, 29, 30, 30], dtype=float) / 30. # scale to 0..1\n",
    "\n",
    "# psychometric function\n",
    "def pf(x, alpha, beta):\n",
    "    return 1. / (1 + np.exp( -(x-alpha)/beta ))\n",
    "\n",
    "# fitting\n",
    "par0 = sy.array([100., 1.]) # use some good starting values, reasonable default is [0., 1.]\n",
    "par, mcov = curve_fit(pf, d, p2, par0)\n",
    "print(par)\n",
    "plt.plot(d, p2, 'ro')\n",
    "plt.plot(d, pf(d, par[0], par[1]))\n",
    "plt.show()"
   ]
  },
  {
   "cell_type": "code",
   "execution_count": null,
   "metadata": {},
   "outputs": [],
   "source": []
  },
  {
   "cell_type": "code",
   "execution_count": null,
   "metadata": {},
   "outputs": [],
   "source": []
  },
  {
   "cell_type": "code",
   "execution_count": null,
   "metadata": {},
   "outputs": [],
   "source": []
  },
  {
   "cell_type": "code",
   "execution_count": null,
   "metadata": {},
   "outputs": [],
   "source": []
  },
  {
   "cell_type": "code",
   "execution_count": null,
   "metadata": {},
   "outputs": [],
   "source": []
  },
  {
   "cell_type": "code",
   "execution_count": null,
   "metadata": {},
   "outputs": [],
   "source": []
  }
 ],
 "metadata": {
  "kernelspec": {
   "display_name": "Python 3 (ipykernel)",
   "language": "python",
   "name": "python3"
  },
  "language_info": {
   "codemirror_mode": {
    "name": "ipython",
    "version": 3
   },
   "file_extension": ".py",
   "mimetype": "text/x-python",
   "name": "python",
   "nbconvert_exporter": "python",
   "pygments_lexer": "ipython3",
   "version": "3.9.7"
  }
 },
 "nbformat": 4,
 "nbformat_minor": 4
}
